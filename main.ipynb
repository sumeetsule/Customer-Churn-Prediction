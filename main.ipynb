{
 "cells": [
  {
   "cell_type": "code",
   "execution_count": 1,
   "metadata": {},
   "outputs": [],
   "source": [
    "import pandas as pd\n",
    "import matplotlib.pyplot as plt\n",
    "import numpy as np"
   ]
  },
  {
   "cell_type": "code",
   "execution_count": 2,
   "metadata": {},
   "outputs": [
    {
     "data": {
      "text/html": [
       "<div>\n",
       "<style scoped>\n",
       "    .dataframe tbody tr th:only-of-type {\n",
       "        vertical-align: middle;\n",
       "    }\n",
       "\n",
       "    .dataframe tbody tr th {\n",
       "        vertical-align: top;\n",
       "    }\n",
       "\n",
       "    .dataframe thead th {\n",
       "        text-align: right;\n",
       "    }\n",
       "</style>\n",
       "<table border=\"1\" class=\"dataframe\">\n",
       "  <thead>\n",
       "    <tr style=\"text-align: right;\">\n",
       "      <th></th>\n",
       "      <th>customerID</th>\n",
       "      <th>gender</th>\n",
       "      <th>SeniorCitizen</th>\n",
       "      <th>Partner</th>\n",
       "      <th>Dependents</th>\n",
       "      <th>tenure</th>\n",
       "      <th>PhoneService</th>\n",
       "      <th>MultipleLines</th>\n",
       "      <th>InternetService</th>\n",
       "      <th>OnlineSecurity</th>\n",
       "      <th>...</th>\n",
       "      <th>DeviceProtection</th>\n",
       "      <th>TechSupport</th>\n",
       "      <th>StreamingTV</th>\n",
       "      <th>StreamingMovies</th>\n",
       "      <th>Contract</th>\n",
       "      <th>PaperlessBilling</th>\n",
       "      <th>PaymentMethod</th>\n",
       "      <th>MonthlyCharges</th>\n",
       "      <th>TotalCharges</th>\n",
       "      <th>Churn</th>\n",
       "    </tr>\n",
       "  </thead>\n",
       "  <tbody>\n",
       "    <tr>\n",
       "      <th>6306</th>\n",
       "      <td>0186-CAERR</td>\n",
       "      <td>Male</td>\n",
       "      <td>0</td>\n",
       "      <td>No</td>\n",
       "      <td>No</td>\n",
       "      <td>71</td>\n",
       "      <td>Yes</td>\n",
       "      <td>Yes</td>\n",
       "      <td>Fiber optic</td>\n",
       "      <td>Yes</td>\n",
       "      <td>...</td>\n",
       "      <td>Yes</td>\n",
       "      <td>Yes</td>\n",
       "      <td>Yes</td>\n",
       "      <td>Yes</td>\n",
       "      <td>One year</td>\n",
       "      <td>Yes</td>\n",
       "      <td>Bank transfer (automatic)</td>\n",
       "      <td>116.30</td>\n",
       "      <td>8309.55</td>\n",
       "      <td>No</td>\n",
       "    </tr>\n",
       "    <tr>\n",
       "      <th>5823</th>\n",
       "      <td>9867-NNXLC</td>\n",
       "      <td>Female</td>\n",
       "      <td>0</td>\n",
       "      <td>No</td>\n",
       "      <td>No</td>\n",
       "      <td>22</td>\n",
       "      <td>Yes</td>\n",
       "      <td>No</td>\n",
       "      <td>No</td>\n",
       "      <td>No internet service</td>\n",
       "      <td>...</td>\n",
       "      <td>No internet service</td>\n",
       "      <td>No internet service</td>\n",
       "      <td>No internet service</td>\n",
       "      <td>No internet service</td>\n",
       "      <td>Month-to-month</td>\n",
       "      <td>Yes</td>\n",
       "      <td>Mailed check</td>\n",
       "      <td>20.05</td>\n",
       "      <td>470.2</td>\n",
       "      <td>No</td>\n",
       "    </tr>\n",
       "    <tr>\n",
       "      <th>6374</th>\n",
       "      <td>1293-BSEUN</td>\n",
       "      <td>Female</td>\n",
       "      <td>0</td>\n",
       "      <td>Yes</td>\n",
       "      <td>Yes</td>\n",
       "      <td>72</td>\n",
       "      <td>Yes</td>\n",
       "      <td>No</td>\n",
       "      <td>No</td>\n",
       "      <td>No internet service</td>\n",
       "      <td>...</td>\n",
       "      <td>No internet service</td>\n",
       "      <td>No internet service</td>\n",
       "      <td>No internet service</td>\n",
       "      <td>No internet service</td>\n",
       "      <td>Two year</td>\n",
       "      <td>Yes</td>\n",
       "      <td>Mailed check</td>\n",
       "      <td>20.70</td>\n",
       "      <td>1482.3</td>\n",
       "      <td>No</td>\n",
       "    </tr>\n",
       "    <tr>\n",
       "      <th>1493</th>\n",
       "      <td>6416-YJTTB</td>\n",
       "      <td>Male</td>\n",
       "      <td>0</td>\n",
       "      <td>No</td>\n",
       "      <td>No</td>\n",
       "      <td>11</td>\n",
       "      <td>Yes</td>\n",
       "      <td>No</td>\n",
       "      <td>Fiber optic</td>\n",
       "      <td>Yes</td>\n",
       "      <td>...</td>\n",
       "      <td>Yes</td>\n",
       "      <td>No</td>\n",
       "      <td>No</td>\n",
       "      <td>No</td>\n",
       "      <td>Month-to-month</td>\n",
       "      <td>Yes</td>\n",
       "      <td>Bank transfer (automatic)</td>\n",
       "      <td>79.50</td>\n",
       "      <td>795.65</td>\n",
       "      <td>No</td>\n",
       "    </tr>\n",
       "    <tr>\n",
       "      <th>6786</th>\n",
       "      <td>9820-RMCQV</td>\n",
       "      <td>Female</td>\n",
       "      <td>0</td>\n",
       "      <td>No</td>\n",
       "      <td>No</td>\n",
       "      <td>11</td>\n",
       "      <td>Yes</td>\n",
       "      <td>No</td>\n",
       "      <td>DSL</td>\n",
       "      <td>Yes</td>\n",
       "      <td>...</td>\n",
       "      <td>No</td>\n",
       "      <td>No</td>\n",
       "      <td>No</td>\n",
       "      <td>No</td>\n",
       "      <td>Month-to-month</td>\n",
       "      <td>No</td>\n",
       "      <td>Credit card (automatic)</td>\n",
       "      <td>48.55</td>\n",
       "      <td>501</td>\n",
       "      <td>Yes</td>\n",
       "    </tr>\n",
       "  </tbody>\n",
       "</table>\n",
       "<p>5 rows × 21 columns</p>\n",
       "</div>"
      ],
      "text/plain": [
       "      customerID  gender  SeniorCitizen Partner Dependents  tenure  \\\n",
       "6306  0186-CAERR    Male              0      No         No      71   \n",
       "5823  9867-NNXLC  Female              0      No         No      22   \n",
       "6374  1293-BSEUN  Female              0     Yes        Yes      72   \n",
       "1493  6416-YJTTB    Male              0      No         No      11   \n",
       "6786  9820-RMCQV  Female              0      No         No      11   \n",
       "\n",
       "     PhoneService MultipleLines InternetService       OnlineSecurity  ...  \\\n",
       "6306          Yes           Yes     Fiber optic                  Yes  ...   \n",
       "5823          Yes            No              No  No internet service  ...   \n",
       "6374          Yes            No              No  No internet service  ...   \n",
       "1493          Yes            No     Fiber optic                  Yes  ...   \n",
       "6786          Yes            No             DSL                  Yes  ...   \n",
       "\n",
       "         DeviceProtection          TechSupport          StreamingTV  \\\n",
       "6306                  Yes                  Yes                  Yes   \n",
       "5823  No internet service  No internet service  No internet service   \n",
       "6374  No internet service  No internet service  No internet service   \n",
       "1493                  Yes                   No                   No   \n",
       "6786                   No                   No                   No   \n",
       "\n",
       "          StreamingMovies        Contract PaperlessBilling  \\\n",
       "6306                  Yes        One year              Yes   \n",
       "5823  No internet service  Month-to-month              Yes   \n",
       "6374  No internet service        Two year              Yes   \n",
       "1493                   No  Month-to-month              Yes   \n",
       "6786                   No  Month-to-month               No   \n",
       "\n",
       "                  PaymentMethod MonthlyCharges  TotalCharges Churn  \n",
       "6306  Bank transfer (automatic)         116.30       8309.55    No  \n",
       "5823               Mailed check          20.05         470.2    No  \n",
       "6374               Mailed check          20.70        1482.3    No  \n",
       "1493  Bank transfer (automatic)          79.50        795.65    No  \n",
       "6786    Credit card (automatic)          48.55           501   Yes  \n",
       "\n",
       "[5 rows x 21 columns]"
      ]
     },
     "execution_count": 2,
     "metadata": {},
     "output_type": "execute_result"
    }
   ],
   "source": [
    "df = pd.read_csv(\"customer_churn.csv\")\n",
    "df.sample(5)"
   ]
  },
  {
   "cell_type": "code",
   "execution_count": 3,
   "metadata": {},
   "outputs": [
    {
     "data": {
      "text/plain": [
       "gender               object\n",
       "SeniorCitizen         int64\n",
       "Partner              object\n",
       "Dependents           object\n",
       "tenure                int64\n",
       "PhoneService         object\n",
       "MultipleLines        object\n",
       "InternetService      object\n",
       "OnlineSecurity       object\n",
       "OnlineBackup         object\n",
       "DeviceProtection     object\n",
       "TechSupport          object\n",
       "StreamingTV          object\n",
       "StreamingMovies      object\n",
       "Contract             object\n",
       "PaperlessBilling     object\n",
       "PaymentMethod        object\n",
       "MonthlyCharges      float64\n",
       "TotalCharges         object\n",
       "Churn                object\n",
       "dtype: object"
      ]
     },
     "execution_count": 3,
     "metadata": {},
     "output_type": "execute_result"
    }
   ],
   "source": [
    "df.drop('customerID',axis='columns',inplace=True)\n",
    "df.dtypes"
   ]
  },
  {
   "cell_type": "code",
   "execution_count": 4,
   "metadata": {},
   "outputs": [
    {
     "data": {
      "text/plain": [
       "array(['29.85', '1889.5', '108.15', ..., '346.45', '306.6', '6844.5'],\n",
       "      dtype=object)"
      ]
     },
     "execution_count": 4,
     "metadata": {},
     "output_type": "execute_result"
    }
   ],
   "source": [
    "df.TotalCharges.values"
   ]
  },
  {
   "cell_type": "code",
   "execution_count": 5,
   "metadata": {},
   "outputs": [
    {
     "data": {
      "text/plain": [
       "array([ 29.85,  56.95,  53.85, ...,  29.6 ,  74.4 , 105.65])"
      ]
     },
     "execution_count": 5,
     "metadata": {},
     "output_type": "execute_result"
    }
   ],
   "source": [
    "df.MonthlyCharges.values"
   ]
  },
  {
   "cell_type": "code",
   "execution_count": 6,
   "metadata": {},
   "outputs": [
    {
     "data": {
      "text/plain": [
       "0       False\n",
       "1       False\n",
       "2       False\n",
       "3       False\n",
       "4       False\n",
       "        ...  \n",
       "7038    False\n",
       "7039    False\n",
       "7040    False\n",
       "7041    False\n",
       "7042    False\n",
       "Name: TotalCharges, Length: 7043, dtype: bool"
      ]
     },
     "execution_count": 6,
     "metadata": {},
     "output_type": "execute_result"
    }
   ],
   "source": [
    "pd.to_numeric(df.TotalCharges,errors='coerce').isnull()"
   ]
  },
  {
   "cell_type": "code",
   "execution_count": 7,
   "metadata": {},
   "outputs": [
    {
     "data": {
      "text/plain": [
       "(11, 20)"
      ]
     },
     "execution_count": 7,
     "metadata": {},
     "output_type": "execute_result"
    }
   ],
   "source": [
    "df[pd.to_numeric(df.TotalCharges,errors='coerce').isnull()].shape"
   ]
  },
  {
   "cell_type": "code",
   "execution_count": 8,
   "metadata": {},
   "outputs": [
    {
     "data": {
      "text/plain": [
       "(7043, 20)"
      ]
     },
     "execution_count": 8,
     "metadata": {},
     "output_type": "execute_result"
    }
   ],
   "source": [
    "df.shape"
   ]
  },
  {
   "cell_type": "code",
   "execution_count": 9,
   "metadata": {},
   "outputs": [
    {
     "data": {
      "text/plain": [
       "' '"
      ]
     },
     "execution_count": 9,
     "metadata": {},
     "output_type": "execute_result"
    }
   ],
   "source": [
    "df.iloc[488]['TotalCharges']"
   ]
  },
  {
   "cell_type": "code",
   "execution_count": 10,
   "metadata": {},
   "outputs": [
    {
     "data": {
      "text/plain": [
       "(7032, 20)"
      ]
     },
     "execution_count": 10,
     "metadata": {},
     "output_type": "execute_result"
    }
   ],
   "source": [
    "df1 = df[df['TotalCharges']!=\" \"]\n",
    "df1.shape"
   ]
  },
  {
   "cell_type": "code",
   "execution_count": 11,
   "metadata": {},
   "outputs": [
    {
     "name": "stderr",
     "output_type": "stream",
     "text": [
      "C:\\Users\\User\\AppData\\Local\\Temp\\ipykernel_15040\\973151263.py:1: SettingWithCopyWarning: \n",
      "A value is trying to be set on a copy of a slice from a DataFrame.\n",
      "Try using .loc[row_indexer,col_indexer] = value instead\n",
      "\n",
      "See the caveats in the documentation: https://pandas.pydata.org/pandas-docs/stable/user_guide/indexing.html#returning-a-view-versus-a-copy\n",
      "  df1.TotalCharges = pd.to_numeric(df1.TotalCharges)\n"
     ]
    }
   ],
   "source": [
    "df1.TotalCharges = pd.to_numeric(df1.TotalCharges)"
   ]
  },
  {
   "cell_type": "code",
   "execution_count": 12,
   "metadata": {},
   "outputs": [
    {
     "data": {
      "text/plain": [
       "dtype('float64')"
      ]
     },
     "execution_count": 12,
     "metadata": {},
     "output_type": "execute_result"
    }
   ],
   "source": [
    "df1['TotalCharges'].dtype"
   ]
  },
  {
   "cell_type": "code",
   "execution_count": 13,
   "metadata": {},
   "outputs": [
    {
     "data": {
      "text/plain": [
       "<matplotlib.legend.Legend at 0x1b901da1910>"
      ]
     },
     "execution_count": 13,
     "metadata": {},
     "output_type": "execute_result"
    },
    {
     "data": {
      "image/png": "[encoded data removed]",
      "text/plain": [
       "<Figure size 640x480 with 1 Axes>"
      ]
     },
     "metadata": {},
     "output_type": "display_data"
    }
   ],
   "source": [
    "tenure_churn_no = df1[df1['Churn'] == \"No\"].tenure\n",
    "tenure_churn_yes = df1[df1['Churn'] == \"Yes\"].tenure\n",
    "\n",
    "plt.xlabel(\"Tenure\")\n",
    "plt.ylabel(\"Number of Customers\")\n",
    "plt.title(\"Customer Churn Prediction Visualiztion\")\n",
    "plt.hist([tenure_churn_yes,tenure_churn_no],color=['green','red'],label=['Churn=Yes','Churn=No'])\n",
    "plt.legend()"
   ]
  },
  {
   "cell_type": "code",
   "execution_count": 14,
   "metadata": {},
   "outputs": [
    {
     "data": {
      "text/plain": [
       "<matplotlib.legend.Legend at 0x1b904f4dfa0>"
      ]
     },
     "execution_count": 14,
     "metadata": {},
     "output_type": "execute_result"
    },
    {
     "data": {
      "image/png": "[encoded data removed]",
      "text/plain": [
       "<Figure size 640x480 with 1 Axes>"
      ]
     },
     "metadata": {},
     "output_type": "display_data"
    }
   ],
   "source": [
    "mc_churn_no = df1[df1['Churn']==\"No\"]['MonthlyCharges']\n",
    "mc_churn_yes = df1[df1['Churn']==\"Yes\"]['MonthlyCharges']\n",
    "\n",
    "plt.xlabel(\"Monthly Charges\")\n",
    "plt.ylabel(\"Number of Customers\")\n",
    "plt.title(\"Customer Churn Prediction Visualization\")\n",
    "\n",
    "blood_sugar_men = [113,85,90,150,149,88,93,115,135,80,77,82,129]\n",
    "blood_sugar_women = [67,98,89,120,133,150,84,69,89,79,120,112,100]\n",
    "\n",
    "plt.hist([mc_churn_yes,mc_churn_no],rwidth=0.95,color=['green','red'],label=['Churn=Yes','Churn=No'])\n",
    "plt.legend()"
   ]
  },
  {
   "cell_type": "code",
   "execution_count": 15,
   "metadata": {},
   "outputs": [],
   "source": [
    "def print_unique_col_values(df):\n",
    "    for column in df:\n",
    "        if df[column].dtypes=='object':\n",
    "            print(f'{column} : {df[column].unique()}')"
   ]
  },
  {
   "cell_type": "code",
   "execution_count": 16,
   "metadata": {},
   "outputs": [
    {
     "name": "stdout",
     "output_type": "stream",
     "text": [
      "gender : ['Female' 'Male']\n",
      "Partner : ['Yes' 'No']\n",
      "Dependents : ['No' 'Yes']\n",
      "PhoneService : ['No' 'Yes']\n",
      "MultipleLines : ['No phone service' 'No' 'Yes']\n",
      "InternetService : ['DSL' 'Fiber optic' 'No']\n",
      "OnlineSecurity : ['No' 'Yes' 'No internet service']\n",
      "OnlineBackup : ['Yes' 'No' 'No internet service']\n",
      "DeviceProtection : ['No' 'Yes' 'No internet service']\n",
      "TechSupport : ['No' 'Yes' 'No internet service']\n",
      "StreamingTV : ['No' 'Yes' 'No internet service']\n",
      "StreamingMovies : ['No' 'Yes' 'No internet service']\n",
      "Contract : ['Month-to-month' 'One year' 'Two year']\n",
      "PaperlessBilling : ['Yes' 'No']\n",
      "PaymentMethod : ['Electronic check' 'Mailed check' 'Bank transfer (automatic)'\n",
      " 'Credit card (automatic)']\n",
      "Churn : ['No' 'Yes']\n"
     ]
    }
   ],
   "source": [
    "print_unique_col_values(df1)"
   ]
  },
  {
   "cell_type": "code",
   "execution_count": 17,
   "metadata": {},
   "outputs": [
    {
     "name": "stderr",
     "output_type": "stream",
     "text": [
      "C:\\Users\\User\\AppData\\Local\\Temp\\ipykernel_15040\\2045096646.py:1: SettingWithCopyWarning: \n",
      "A value is trying to be set on a copy of a slice from a DataFrame\n",
      "\n",
      "See the caveats in the documentation: https://pandas.pydata.org/pandas-docs/stable/user_guide/indexing.html#returning-a-view-versus-a-copy\n",
      "  df1.replace('No internet service','No',inplace=True)\n",
      "C:\\Users\\User\\AppData\\Local\\Temp\\ipykernel_15040\\2045096646.py:2: SettingWithCopyWarning: \n",
      "A value is trying to be set on a copy of a slice from a DataFrame\n",
      "\n",
      "See the caveats in the documentation: https://pandas.pydata.org/pandas-docs/stable/user_guide/indexing.html#returning-a-view-versus-a-copy\n",
      "  df1.replace('No phone service','No',inplace=True)\n"
     ]
    }
   ],
   "source": [
    "df1.replace('No internet service','No',inplace=True)\n",
    "df1.replace('No phone service','No',inplace=True)"
   ]
  },
  {
   "cell_type": "code",
   "execution_count": 18,
   "metadata": {},
   "outputs": [
    {
     "name": "stdout",
     "output_type": "stream",
     "text": [
      "gender : ['Female' 'Male']\n",
      "Partner : ['Yes' 'No']\n",
      "Dependents : ['No' 'Yes']\n",
      "PhoneService : ['No' 'Yes']\n",
      "MultipleLines : ['No' 'Yes']\n",
      "InternetService : ['DSL' 'Fiber optic' 'No']\n",
      "OnlineSecurity : ['No' 'Yes']\n",
      "OnlineBackup : ['Yes' 'No']\n",
      "DeviceProtection : ['No' 'Yes']\n",
      "TechSupport : ['No' 'Yes']\n",
      "StreamingTV : ['No' 'Yes']\n",
      "StreamingMovies : ['No' 'Yes']\n",
      "Contract : ['Month-to-month' 'One year' 'Two year']\n",
      "PaperlessBilling : ['Yes' 'No']\n",
      "PaymentMethod : ['Electronic check' 'Mailed check' 'Bank transfer (automatic)'\n",
      " 'Credit card (automatic)']\n",
      "Churn : ['No' 'Yes']\n"
     ]
    }
   ],
   "source": [
    "print_unique_col_values(df1)"
   ]
  },
  {
   "cell_type": "code",
   "execution_count": 19,
   "metadata": {},
   "outputs": [
    {
     "name": "stderr",
     "output_type": "stream",
     "text": [
      "C:\\Users\\User\\AppData\\Local\\Temp\\ipykernel_15040\\1543698459.py:5: SettingWithCopyWarning: \n",
      "A value is trying to be set on a copy of a slice from a DataFrame\n",
      "\n",
      "See the caveats in the documentation: https://pandas.pydata.org/pandas-docs/stable/user_guide/indexing.html#returning-a-view-versus-a-copy\n",
      "  df1[col].replace({'Yes':1,'No':0},inplace=True)\n"
     ]
    }
   ],
   "source": [
    "yes_no_columns = ['Partner','Dependents','PhoneService','MultipleLines','OnlineSecurity','OnlineBackup','DeviceProtection','TechSupport','StreamingTV',\n",
    "                'StreamingMovies','PaperlessBilling','Churn']\n",
    "\n",
    "for col in yes_no_columns:\n",
    "    df1[col].replace({'Yes':1,'No':0},inplace=True)"
   ]
  },
  {
   "cell_type": "code",
   "execution_count": 20,
   "metadata": {},
   "outputs": [
    {
     "name": "stdout",
     "output_type": "stream",
     "text": [
      "gender: ['Female' 'Male']\n",
      "SeniorCitizen: [0 1]\n",
      "Partner: [1 0]\n",
      "Dependents: [0 1]\n",
      "tenure: [ 1 34  2 45  8 22 10 28 62 13 16 58 49 25 69 52 71 21 12 30 47 72 17 27\n",
      "  5 46 11 70 63 43 15 60 18 66  9  3 31 50 64 56  7 42 35 48 29 65 38 68\n",
      " 32 55 37 36 41  6  4 33 67 23 57 61 14 20 53 40 59 24 44 19 54 51 26 39]\n",
      "PhoneService: [0 1]\n",
      "MultipleLines: [0 1]\n",
      "InternetService: ['DSL' 'Fiber optic' 'No']\n",
      "OnlineSecurity: [0 1]\n",
      "OnlineBackup: [1 0]\n",
      "DeviceProtection: [0 1]\n",
      "TechSupport: [0 1]\n",
      "StreamingTV: [0 1]\n",
      "StreamingMovies: [0 1]\n",
      "Contract: ['Month-to-month' 'One year' 'Two year']\n",
      "PaperlessBilling: [1 0]\n",
      "PaymentMethod: ['Electronic check' 'Mailed check' 'Bank transfer (automatic)'\n",
      " 'Credit card (automatic)']\n",
      "MonthlyCharges: [29.85 56.95 53.85 ... 63.1  44.2  78.7 ]\n",
      "TotalCharges: [  29.85 1889.5   108.15 ...  346.45  306.6  6844.5 ]\n",
      "Churn: [0 1]\n"
     ]
    }
   ],
   "source": [
    "for col in df1:\n",
    "    print(f'{col}: {df1[col].unique()}')"
   ]
  },
  {
   "cell_type": "code",
   "execution_count": 21,
   "metadata": {},
   "outputs": [
    {
     "name": "stderr",
     "output_type": "stream",
     "text": [
      "C:\\Users\\User\\AppData\\Local\\Temp\\ipykernel_15040\\3128987995.py:1: SettingWithCopyWarning: \n",
      "A value is trying to be set on a copy of a slice from a DataFrame\n",
      "\n",
      "See the caveats in the documentation: https://pandas.pydata.org/pandas-docs/stable/user_guide/indexing.html#returning-a-view-versus-a-copy\n",
      "  df1['gender'].replace({\"Female\":1,\"Male\":0},inplace=True)\n"
     ]
    }
   ],
   "source": [
    "df1['gender'].replace({\"Female\":1,\"Male\":0},inplace=True)"
   ]
  },
  {
   "cell_type": "code",
   "execution_count": 22,
   "metadata": {},
   "outputs": [
    {
     "data": {
      "text/plain": [
       "array([1, 0], dtype=int64)"
      ]
     },
     "execution_count": 22,
     "metadata": {},
     "output_type": "execute_result"
    }
   ],
   "source": [
    "df1.gender.unique()"
   ]
  },
  {
   "cell_type": "code",
   "execution_count": 32,
   "metadata": {},
   "outputs": [
    {
     "data": {
      "text/plain": [
       "Churn\n",
       "0    5163\n",
       "1    1869\n",
       "Name: count, dtype: int64"
      ]
     },
     "execution_count": 32,
     "metadata": {},
     "output_type": "execute_result"
    }
   ],
   "source": [
    "df1['Churn'].value_counts()"
   ]
  },
  {
   "cell_type": "code",
   "execution_count": 23,
   "metadata": {},
   "outputs": [
    {
     "data": {
      "text/plain": [
       "Index(['gender', 'SeniorCitizen', 'Partner', 'Dependents', 'tenure',\n",
       "       'PhoneService', 'MultipleLines', 'OnlineSecurity', 'OnlineBackup',\n",
       "       'DeviceProtection', 'TechSupport', 'StreamingTV', 'StreamingMovies',\n",
       "       'PaperlessBilling', 'MonthlyCharges', 'TotalCharges', 'Churn',\n",
       "       'InternetService_DSL', 'InternetService_Fiber optic',\n",
       "       'InternetService_No', 'Contract_Month-to-month', 'Contract_One year',\n",
       "       'Contract_Two year', 'PaymentMethod_Bank transfer (automatic)',\n",
       "       'PaymentMethod_Credit card (automatic)',\n",
       "       'PaymentMethod_Electronic check', 'PaymentMethod_Mailed check'],\n",
       "      dtype='object')"
      ]
     },
     "execution_count": 23,
     "metadata": {},
     "output_type": "execute_result"
    }
   ],
   "source": [
    "df2 = pd.get_dummies(data=df1,columns=['InternetService','Contract','PaymentMethod'])\n",
    "df2.columns"
   ]
  },
  {
   "cell_type": "code",
   "execution_count": 24,
   "metadata": {},
   "outputs": [
    {
     "data": {
      "text/html": [
       "<div>\n",
       "<style scoped>\n",
       "    .dataframe tbody tr th:only-of-type {\n",
       "        vertical-align: middle;\n",
       "    }\n",
       "\n",
       "    .dataframe tbody tr th {\n",
       "        vertical-align: top;\n",
       "    }\n",
       "\n",
       "    .dataframe thead th {\n",
       "        text-align: right;\n",
       "    }\n",
       "</style>\n",
       "<table border=\"1\" class=\"dataframe\">\n",
       "  <thead>\n",
       "    <tr style=\"text-align: right;\">\n",
       "      <th></th>\n",
       "      <th>gender</th>\n",
       "      <th>SeniorCitizen</th>\n",
       "      <th>Partner</th>\n",
       "      <th>Dependents</th>\n",
       "      <th>tenure</th>\n",
       "      <th>PhoneService</th>\n",
       "      <th>MultipleLines</th>\n",
       "      <th>OnlineSecurity</th>\n",
       "      <th>OnlineBackup</th>\n",
       "      <th>DeviceProtection</th>\n",
       "      <th>...</th>\n",
       "      <th>InternetService_DSL</th>\n",
       "      <th>InternetService_Fiber optic</th>\n",
       "      <th>InternetService_No</th>\n",
       "      <th>Contract_Month-to-month</th>\n",
       "      <th>Contract_One year</th>\n",
       "      <th>Contract_Two year</th>\n",
       "      <th>PaymentMethod_Bank transfer (automatic)</th>\n",
       "      <th>PaymentMethod_Credit card (automatic)</th>\n",
       "      <th>PaymentMethod_Electronic check</th>\n",
       "      <th>PaymentMethod_Mailed check</th>\n",
       "    </tr>\n",
       "  </thead>\n",
       "  <tbody>\n",
       "    <tr>\n",
       "      <th>4118</th>\n",
       "      <td>1</td>\n",
       "      <td>0</td>\n",
       "      <td>0</td>\n",
       "      <td>0</td>\n",
       "      <td>40</td>\n",
       "      <td>1</td>\n",
       "      <td>0</td>\n",
       "      <td>0</td>\n",
       "      <td>1</td>\n",
       "      <td>0</td>\n",
       "      <td>...</td>\n",
       "      <td>False</td>\n",
       "      <td>True</td>\n",
       "      <td>False</td>\n",
       "      <td>True</td>\n",
       "      <td>False</td>\n",
       "      <td>False</td>\n",
       "      <td>False</td>\n",
       "      <td>True</td>\n",
       "      <td>False</td>\n",
       "      <td>False</td>\n",
       "    </tr>\n",
       "    <tr>\n",
       "      <th>361</th>\n",
       "      <td>1</td>\n",
       "      <td>0</td>\n",
       "      <td>0</td>\n",
       "      <td>0</td>\n",
       "      <td>41</td>\n",
       "      <td>1</td>\n",
       "      <td>0</td>\n",
       "      <td>0</td>\n",
       "      <td>1</td>\n",
       "      <td>0</td>\n",
       "      <td>...</td>\n",
       "      <td>False</td>\n",
       "      <td>True</td>\n",
       "      <td>False</td>\n",
       "      <td>False</td>\n",
       "      <td>False</td>\n",
       "      <td>True</td>\n",
       "      <td>True</td>\n",
       "      <td>False</td>\n",
       "      <td>False</td>\n",
       "      <td>False</td>\n",
       "    </tr>\n",
       "    <tr>\n",
       "      <th>6822</th>\n",
       "      <td>0</td>\n",
       "      <td>1</td>\n",
       "      <td>1</td>\n",
       "      <td>0</td>\n",
       "      <td>32</td>\n",
       "      <td>1</td>\n",
       "      <td>0</td>\n",
       "      <td>0</td>\n",
       "      <td>0</td>\n",
       "      <td>0</td>\n",
       "      <td>...</td>\n",
       "      <td>False</td>\n",
       "      <td>True</td>\n",
       "      <td>False</td>\n",
       "      <td>True</td>\n",
       "      <td>False</td>\n",
       "      <td>False</td>\n",
       "      <td>False</td>\n",
       "      <td>True</td>\n",
       "      <td>False</td>\n",
       "      <td>False</td>\n",
       "    </tr>\n",
       "    <tr>\n",
       "      <th>5666</th>\n",
       "      <td>0</td>\n",
       "      <td>0</td>\n",
       "      <td>1</td>\n",
       "      <td>0</td>\n",
       "      <td>35</td>\n",
       "      <td>0</td>\n",
       "      <td>0</td>\n",
       "      <td>1</td>\n",
       "      <td>0</td>\n",
       "      <td>1</td>\n",
       "      <td>...</td>\n",
       "      <td>True</td>\n",
       "      <td>False</td>\n",
       "      <td>False</td>\n",
       "      <td>False</td>\n",
       "      <td>True</td>\n",
       "      <td>False</td>\n",
       "      <td>False</td>\n",
       "      <td>True</td>\n",
       "      <td>False</td>\n",
       "      <td>False</td>\n",
       "    </tr>\n",
       "    <tr>\n",
       "      <th>5026</th>\n",
       "      <td>0</td>\n",
       "      <td>0</td>\n",
       "      <td>1</td>\n",
       "      <td>1</td>\n",
       "      <td>23</td>\n",
       "      <td>1</td>\n",
       "      <td>0</td>\n",
       "      <td>0</td>\n",
       "      <td>0</td>\n",
       "      <td>0</td>\n",
       "      <td>...</td>\n",
       "      <td>False</td>\n",
       "      <td>False</td>\n",
       "      <td>True</td>\n",
       "      <td>False</td>\n",
       "      <td>True</td>\n",
       "      <td>False</td>\n",
       "      <td>False</td>\n",
       "      <td>True</td>\n",
       "      <td>False</td>\n",
       "      <td>False</td>\n",
       "    </tr>\n",
       "  </tbody>\n",
       "</table>\n",
       "<p>5 rows × 27 columns</p>\n",
       "</div>"
      ],
      "text/plain": [
       "      gender  SeniorCitizen  Partner  Dependents  tenure  PhoneService  \\\n",
       "4118       1              0        0           0      40             1   \n",
       "361        1              0        0           0      41             1   \n",
       "6822       0              1        1           0      32             1   \n",
       "5666       0              0        1           0      35             0   \n",
       "5026       0              0        1           1      23             1   \n",
       "\n",
       "      MultipleLines  OnlineSecurity  OnlineBackup  DeviceProtection  ...  \\\n",
       "4118              0               0             1                 0  ...   \n",
       "361               0               0             1                 0  ...   \n",
       "6822              0               0             0                 0  ...   \n",
       "5666              0               1             0                 1  ...   \n",
       "5026              0               0             0                 0  ...   \n",
       "\n",
       "      InternetService_DSL  InternetService_Fiber optic  InternetService_No  \\\n",
       "4118                False                         True               False   \n",
       "361                 False                         True               False   \n",
       "6822                False                         True               False   \n",
       "5666                 True                        False               False   \n",
       "5026                False                        False                True   \n",
       "\n",
       "      Contract_Month-to-month  Contract_One year  Contract_Two year  \\\n",
       "4118                     True              False              False   \n",
       "361                     False              False               True   \n",
       "6822                     True              False              False   \n",
       "5666                    False               True              False   \n",
       "5026                    False               True              False   \n",
       "\n",
       "      PaymentMethod_Bank transfer (automatic)  \\\n",
       "4118                                    False   \n",
       "361                                      True   \n",
       "6822                                    False   \n",
       "5666                                    False   \n",
       "5026                                    False   \n",
       "\n",
       "      PaymentMethod_Credit card (automatic)  PaymentMethod_Electronic check  \\\n",
       "4118                                   True                           False   \n",
       "361                                   False                           False   \n",
       "6822                                   True                           False   \n",
       "5666                                   True                           False   \n",
       "5026                                   True                           False   \n",
       "\n",
       "      PaymentMethod_Mailed check  \n",
       "4118                       False  \n",
       "361                        False  \n",
       "6822                       False  \n",
       "5666                       False  \n",
       "5026                       False  \n",
       "\n",
       "[5 rows x 27 columns]"
      ]
     },
     "execution_count": 24,
     "metadata": {},
     "output_type": "execute_result"
    }
   ],
   "source": [
    "df2.sample(5)"
   ]
  },
  {
   "cell_type": "code",
   "execution_count": 25,
   "metadata": {},
   "outputs": [
    {
     "data": {
      "text/plain": [
       "gender                                       int64\n",
       "SeniorCitizen                                int64\n",
       "Partner                                      int64\n",
       "Dependents                                   int64\n",
       "tenure                                       int64\n",
       "PhoneService                                 int64\n",
       "MultipleLines                                int64\n",
       "OnlineSecurity                               int64\n",
       "OnlineBackup                                 int64\n",
       "DeviceProtection                             int64\n",
       "TechSupport                                  int64\n",
       "StreamingTV                                  int64\n",
       "StreamingMovies                              int64\n",
       "PaperlessBilling                             int64\n",
       "MonthlyCharges                             float64\n",
       "TotalCharges                               float64\n",
       "Churn                                        int64\n",
       "InternetService_DSL                           bool\n",
       "InternetService_Fiber optic                   bool\n",
       "InternetService_No                            bool\n",
       "Contract_Month-to-month                       bool\n",
       "Contract_One year                             bool\n",
       "Contract_Two year                             bool\n",
       "PaymentMethod_Bank transfer (automatic)       bool\n",
       "PaymentMethod_Credit card (automatic)         bool\n",
       "PaymentMethod_Electronic check                bool\n",
       "PaymentMethod_Mailed check                    bool\n",
       "dtype: object"
      ]
     },
     "execution_count": 25,
     "metadata": {},
     "output_type": "execute_result"
    }
   ],
   "source": [
    "df2.dtypes"
   ]
  },
  {
   "cell_type": "code",
   "execution_count": 26,
   "metadata": {},
   "outputs": [],
   "source": [
    "cols_to_scale = ['tenure','MonthlyCharges','TotalCharges']\n",
    "\n",
    "from sklearn.preprocessing import MinMaxScaler\n",
    "scaler = MinMaxScaler()\n",
    "\n",
    "df2[cols_to_scale] = scaler.fit_transform(df2[cols_to_scale])"
   ]
  },
  {
   "cell_type": "code",
   "execution_count": 27,
   "metadata": {},
   "outputs": [
    {
     "data": {
      "text/html": [
       "<div>\n",
       "<style scoped>\n",
       "    .dataframe tbody tr th:only-of-type {\n",
       "        vertical-align: middle;\n",
       "    }\n",
       "\n",
       "    .dataframe tbody tr th {\n",
       "        vertical-align: top;\n",
       "    }\n",
       "\n",
       "    .dataframe thead th {\n",
       "        text-align: right;\n",
       "    }\n",
       "</style>\n",
       "<table border=\"1\" class=\"dataframe\">\n",
       "  <thead>\n",
       "    <tr style=\"text-align: right;\">\n",
       "      <th></th>\n",
       "      <th>gender</th>\n",
       "      <th>SeniorCitizen</th>\n",
       "      <th>Partner</th>\n",
       "      <th>Dependents</th>\n",
       "      <th>tenure</th>\n",
       "      <th>PhoneService</th>\n",
       "      <th>MultipleLines</th>\n",
       "      <th>OnlineSecurity</th>\n",
       "      <th>OnlineBackup</th>\n",
       "      <th>DeviceProtection</th>\n",
       "      <th>...</th>\n",
       "      <th>InternetService_DSL</th>\n",
       "      <th>InternetService_Fiber optic</th>\n",
       "      <th>InternetService_No</th>\n",
       "      <th>Contract_Month-to-month</th>\n",
       "      <th>Contract_One year</th>\n",
       "      <th>Contract_Two year</th>\n",
       "      <th>PaymentMethod_Bank transfer (automatic)</th>\n",
       "      <th>PaymentMethod_Credit card (automatic)</th>\n",
       "      <th>PaymentMethod_Electronic check</th>\n",
       "      <th>PaymentMethod_Mailed check</th>\n",
       "    </tr>\n",
       "  </thead>\n",
       "  <tbody>\n",
       "    <tr>\n",
       "      <th>1219</th>\n",
       "      <td>1</td>\n",
       "      <td>0</td>\n",
       "      <td>1</td>\n",
       "      <td>1</td>\n",
       "      <td>0.859155</td>\n",
       "      <td>1</td>\n",
       "      <td>1</td>\n",
       "      <td>0</td>\n",
       "      <td>0</td>\n",
       "      <td>0</td>\n",
       "      <td>...</td>\n",
       "      <td>True</td>\n",
       "      <td>False</td>\n",
       "      <td>False</td>\n",
       "      <td>True</td>\n",
       "      <td>False</td>\n",
       "      <td>False</td>\n",
       "      <td>False</td>\n",
       "      <td>True</td>\n",
       "      <td>False</td>\n",
       "      <td>False</td>\n",
       "    </tr>\n",
       "    <tr>\n",
       "      <th>1049</th>\n",
       "      <td>1</td>\n",
       "      <td>0</td>\n",
       "      <td>0</td>\n",
       "      <td>0</td>\n",
       "      <td>0.000000</td>\n",
       "      <td>1</td>\n",
       "      <td>0</td>\n",
       "      <td>0</td>\n",
       "      <td>0</td>\n",
       "      <td>0</td>\n",
       "      <td>...</td>\n",
       "      <td>False</td>\n",
       "      <td>False</td>\n",
       "      <td>True</td>\n",
       "      <td>True</td>\n",
       "      <td>False</td>\n",
       "      <td>False</td>\n",
       "      <td>False</td>\n",
       "      <td>False</td>\n",
       "      <td>False</td>\n",
       "      <td>True</td>\n",
       "    </tr>\n",
       "    <tr>\n",
       "      <th>4806</th>\n",
       "      <td>0</td>\n",
       "      <td>0</td>\n",
       "      <td>0</td>\n",
       "      <td>0</td>\n",
       "      <td>0.929577</td>\n",
       "      <td>1</td>\n",
       "      <td>0</td>\n",
       "      <td>0</td>\n",
       "      <td>0</td>\n",
       "      <td>0</td>\n",
       "      <td>...</td>\n",
       "      <td>False</td>\n",
       "      <td>False</td>\n",
       "      <td>True</td>\n",
       "      <td>False</td>\n",
       "      <td>True</td>\n",
       "      <td>False</td>\n",
       "      <td>False</td>\n",
       "      <td>False</td>\n",
       "      <td>False</td>\n",
       "      <td>True</td>\n",
       "    </tr>\n",
       "    <tr>\n",
       "      <th>1845</th>\n",
       "      <td>0</td>\n",
       "      <td>0</td>\n",
       "      <td>0</td>\n",
       "      <td>0</td>\n",
       "      <td>0.957746</td>\n",
       "      <td>0</td>\n",
       "      <td>0</td>\n",
       "      <td>0</td>\n",
       "      <td>1</td>\n",
       "      <td>1</td>\n",
       "      <td>...</td>\n",
       "      <td>True</td>\n",
       "      <td>False</td>\n",
       "      <td>False</td>\n",
       "      <td>False</td>\n",
       "      <td>True</td>\n",
       "      <td>False</td>\n",
       "      <td>True</td>\n",
       "      <td>False</td>\n",
       "      <td>False</td>\n",
       "      <td>False</td>\n",
       "    </tr>\n",
       "  </tbody>\n",
       "</table>\n",
       "<p>4 rows × 27 columns</p>\n",
       "</div>"
      ],
      "text/plain": [
       "      gender  SeniorCitizen  Partner  Dependents    tenure  PhoneService  \\\n",
       "1219       1              0        1           1  0.859155             1   \n",
       "1049       1              0        0           0  0.000000             1   \n",
       "4806       0              0        0           0  0.929577             1   \n",
       "1845       0              0        0           0  0.957746             0   \n",
       "\n",
       "      MultipleLines  OnlineSecurity  OnlineBackup  DeviceProtection  ...  \\\n",
       "1219              1               0             0                 0  ...   \n",
       "1049              0               0             0                 0  ...   \n",
       "4806              0               0             0                 0  ...   \n",
       "1845              0               0             1                 1  ...   \n",
       "\n",
       "      InternetService_DSL  InternetService_Fiber optic  InternetService_No  \\\n",
       "1219                 True                        False               False   \n",
       "1049                False                        False                True   \n",
       "4806                False                        False                True   \n",
       "1845                 True                        False               False   \n",
       "\n",
       "      Contract_Month-to-month  Contract_One year  Contract_Two year  \\\n",
       "1219                     True              False              False   \n",
       "1049                     True              False              False   \n",
       "4806                    False               True              False   \n",
       "1845                    False               True              False   \n",
       "\n",
       "      PaymentMethod_Bank transfer (automatic)  \\\n",
       "1219                                    False   \n",
       "1049                                    False   \n",
       "4806                                    False   \n",
       "1845                                     True   \n",
       "\n",
       "      PaymentMethod_Credit card (automatic)  PaymentMethod_Electronic check  \\\n",
       "1219                                   True                           False   \n",
       "1049                                  False                           False   \n",
       "4806                                  False                           False   \n",
       "1845                                  False                           False   \n",
       "\n",
       "      PaymentMethod_Mailed check  \n",
       "1219                       False  \n",
       "1049                        True  \n",
       "4806                        True  \n",
       "1845                       False  \n",
       "\n",
       "[4 rows x 27 columns]"
      ]
     },
     "execution_count": 27,
     "metadata": {},
     "output_type": "execute_result"
    }
   ],
   "source": [
    "df2.sample(4)"
   ]
  },
  {
   "cell_type": "code",
   "execution_count": 28,
   "metadata": {},
   "outputs": [
    {
     "name": "stdout",
     "output_type": "stream",
     "text": [
      "gender: [1 0]\n",
      "SeniorCitizen: [0 1]\n",
      "Partner: [1 0]\n",
      "Dependents: [0 1]\n",
      "tenure: [0.         0.46478873 0.01408451 0.61971831 0.09859155 0.29577465\n",
      " 0.12676056 0.38028169 0.85915493 0.16901408 0.21126761 0.8028169\n",
      " 0.67605634 0.33802817 0.95774648 0.71830986 0.98591549 0.28169014\n",
      " 0.15492958 0.4084507  0.64788732 1.         0.22535211 0.36619718\n",
      " 0.05633803 0.63380282 0.14084507 0.97183099 0.87323944 0.5915493\n",
      " 0.1971831  0.83098592 0.23943662 0.91549296 0.11267606 0.02816901\n",
      " 0.42253521 0.69014085 0.88732394 0.77464789 0.08450704 0.57746479\n",
      " 0.47887324 0.66197183 0.3943662  0.90140845 0.52112676 0.94366197\n",
      " 0.43661972 0.76056338 0.50704225 0.49295775 0.56338028 0.07042254\n",
      " 0.04225352 0.45070423 0.92957746 0.30985915 0.78873239 0.84507042\n",
      " 0.18309859 0.26760563 0.73239437 0.54929577 0.81690141 0.32394366\n",
      " 0.6056338  0.25352113 0.74647887 0.70422535 0.35211268 0.53521127]\n",
      "PhoneService: [0 1]\n",
      "MultipleLines: [0 1]\n",
      "OnlineSecurity: [0 1]\n",
      "OnlineBackup: [1 0]\n",
      "DeviceProtection: [0 1]\n",
      "TechSupport: [0 1]\n",
      "StreamingTV: [0 1]\n",
      "StreamingMovies: [0 1]\n",
      "PaperlessBilling: [1 0]\n",
      "MonthlyCharges: [0.11542289 0.38507463 0.35422886 ... 0.44626866 0.25820896 0.60149254]\n",
      "TotalCharges: [0.0012751  0.21586661 0.01031041 ... 0.03780868 0.03321025 0.78764136]\n",
      "Churn: [0 1]\n",
      "InternetService_DSL: [ True False]\n",
      "InternetService_Fiber optic: [False  True]\n",
      "InternetService_No: [False  True]\n",
      "Contract_Month-to-month: [ True False]\n",
      "Contract_One year: [False  True]\n",
      "Contract_Two year: [False  True]\n",
      "PaymentMethod_Bank transfer (automatic): [False  True]\n",
      "PaymentMethod_Credit card (automatic): [False  True]\n",
      "PaymentMethod_Electronic check: [ True False]\n",
      "PaymentMethod_Mailed check: [False  True]\n"
     ]
    }
   ],
   "source": [
    "for col in df2:\n",
    "    print(f'{col}: {df2[col].unique()}')"
   ]
  },
  {
   "cell_type": "code",
   "execution_count": 29,
   "metadata": {},
   "outputs": [],
   "source": [
    "X = df2.drop('Churn',axis='columns')\n",
    "y = df2['Churn']"
   ]
  },
  {
   "cell_type": "code",
   "execution_count": 30,
   "metadata": {},
   "outputs": [],
   "source": [
    "from sklearn.model_selection import train_test_split\n",
    "X_train, X_test, y_train, y_test = train_test_split(X,y,test_size=0.2,random_state=5)"
   ]
  },
  {
   "cell_type": "code",
   "execution_count": 31,
   "metadata": {},
   "outputs": [
    {
     "data": {
      "text/plain": [
       "(5625, 26)"
      ]
     },
     "execution_count": 31,
     "metadata": {},
     "output_type": "execute_result"
    }
   ],
   "source": [
    "X_train.shape"
   ]
  },
  {
   "cell_type": "code",
   "execution_count": 32,
   "metadata": {},
   "outputs": [
    {
     "data": {
      "text/plain": [
       "(1407, 26)"
      ]
     },
     "execution_count": 32,
     "metadata": {},
     "output_type": "execute_result"
    }
   ],
   "source": [
    "X_test.shape"
   ]
  },
  {
   "cell_type": "code",
   "execution_count": 33,
   "metadata": {},
   "outputs": [
    {
     "data": {
      "text/html": [
       "<div>\n",
       "<style scoped>\n",
       "    .dataframe tbody tr th:only-of-type {\n",
       "        vertical-align: middle;\n",
       "    }\n",
       "\n",
       "    .dataframe tbody tr th {\n",
       "        vertical-align: top;\n",
       "    }\n",
       "\n",
       "    .dataframe thead th {\n",
       "        text-align: right;\n",
       "    }\n",
       "</style>\n",
       "<table border=\"1\" class=\"dataframe\">\n",
       "  <thead>\n",
       "    <tr style=\"text-align: right;\">\n",
       "      <th></th>\n",
       "      <th>gender</th>\n",
       "      <th>SeniorCitizen</th>\n",
       "      <th>Partner</th>\n",
       "      <th>Dependents</th>\n",
       "      <th>tenure</th>\n",
       "      <th>PhoneService</th>\n",
       "      <th>MultipleLines</th>\n",
       "      <th>OnlineSecurity</th>\n",
       "      <th>OnlineBackup</th>\n",
       "      <th>DeviceProtection</th>\n",
       "      <th>...</th>\n",
       "      <th>InternetService_DSL</th>\n",
       "      <th>InternetService_Fiber optic</th>\n",
       "      <th>InternetService_No</th>\n",
       "      <th>Contract_Month-to-month</th>\n",
       "      <th>Contract_One year</th>\n",
       "      <th>Contract_Two year</th>\n",
       "      <th>PaymentMethod_Bank transfer (automatic)</th>\n",
       "      <th>PaymentMethod_Credit card (automatic)</th>\n",
       "      <th>PaymentMethod_Electronic check</th>\n",
       "      <th>PaymentMethod_Mailed check</th>\n",
       "    </tr>\n",
       "  </thead>\n",
       "  <tbody>\n",
       "    <tr>\n",
       "      <th>5664</th>\n",
       "      <td>1</td>\n",
       "      <td>1</td>\n",
       "      <td>0</td>\n",
       "      <td>0</td>\n",
       "      <td>0.126761</td>\n",
       "      <td>1</td>\n",
       "      <td>0</td>\n",
       "      <td>0</td>\n",
       "      <td>0</td>\n",
       "      <td>1</td>\n",
       "      <td>...</td>\n",
       "      <td>False</td>\n",
       "      <td>True</td>\n",
       "      <td>False</td>\n",
       "      <td>True</td>\n",
       "      <td>False</td>\n",
       "      <td>False</td>\n",
       "      <td>False</td>\n",
       "      <td>True</td>\n",
       "      <td>False</td>\n",
       "      <td>False</td>\n",
       "    </tr>\n",
       "    <tr>\n",
       "      <th>101</th>\n",
       "      <td>1</td>\n",
       "      <td>0</td>\n",
       "      <td>1</td>\n",
       "      <td>1</td>\n",
       "      <td>0.000000</td>\n",
       "      <td>1</td>\n",
       "      <td>0</td>\n",
       "      <td>0</td>\n",
       "      <td>0</td>\n",
       "      <td>0</td>\n",
       "      <td>...</td>\n",
       "      <td>False</td>\n",
       "      <td>False</td>\n",
       "      <td>True</td>\n",
       "      <td>True</td>\n",
       "      <td>False</td>\n",
       "      <td>False</td>\n",
       "      <td>False</td>\n",
       "      <td>False</td>\n",
       "      <td>True</td>\n",
       "      <td>False</td>\n",
       "    </tr>\n",
       "    <tr>\n",
       "      <th>2621</th>\n",
       "      <td>0</td>\n",
       "      <td>0</td>\n",
       "      <td>1</td>\n",
       "      <td>0</td>\n",
       "      <td>0.985915</td>\n",
       "      <td>1</td>\n",
       "      <td>0</td>\n",
       "      <td>0</td>\n",
       "      <td>1</td>\n",
       "      <td>1</td>\n",
       "      <td>...</td>\n",
       "      <td>True</td>\n",
       "      <td>False</td>\n",
       "      <td>False</td>\n",
       "      <td>False</td>\n",
       "      <td>False</td>\n",
       "      <td>True</td>\n",
       "      <td>False</td>\n",
       "      <td>True</td>\n",
       "      <td>False</td>\n",
       "      <td>False</td>\n",
       "    </tr>\n",
       "    <tr>\n",
       "      <th>392</th>\n",
       "      <td>1</td>\n",
       "      <td>1</td>\n",
       "      <td>0</td>\n",
       "      <td>0</td>\n",
       "      <td>0.014085</td>\n",
       "      <td>1</td>\n",
       "      <td>0</td>\n",
       "      <td>0</td>\n",
       "      <td>0</td>\n",
       "      <td>0</td>\n",
       "      <td>...</td>\n",
       "      <td>True</td>\n",
       "      <td>False</td>\n",
       "      <td>False</td>\n",
       "      <td>True</td>\n",
       "      <td>False</td>\n",
       "      <td>False</td>\n",
       "      <td>False</td>\n",
       "      <td>False</td>\n",
       "      <td>True</td>\n",
       "      <td>False</td>\n",
       "    </tr>\n",
       "    <tr>\n",
       "      <th>1327</th>\n",
       "      <td>0</td>\n",
       "      <td>0</td>\n",
       "      <td>1</td>\n",
       "      <td>0</td>\n",
       "      <td>0.816901</td>\n",
       "      <td>1</td>\n",
       "      <td>1</td>\n",
       "      <td>0</td>\n",
       "      <td>0</td>\n",
       "      <td>1</td>\n",
       "      <td>...</td>\n",
       "      <td>False</td>\n",
       "      <td>True</td>\n",
       "      <td>False</td>\n",
       "      <td>False</td>\n",
       "      <td>True</td>\n",
       "      <td>False</td>\n",
       "      <td>True</td>\n",
       "      <td>False</td>\n",
       "      <td>False</td>\n",
       "      <td>False</td>\n",
       "    </tr>\n",
       "    <tr>\n",
       "      <th>3607</th>\n",
       "      <td>1</td>\n",
       "      <td>0</td>\n",
       "      <td>0</td>\n",
       "      <td>0</td>\n",
       "      <td>0.169014</td>\n",
       "      <td>1</td>\n",
       "      <td>0</td>\n",
       "      <td>1</td>\n",
       "      <td>0</td>\n",
       "      <td>0</td>\n",
       "      <td>...</td>\n",
       "      <td>True</td>\n",
       "      <td>False</td>\n",
       "      <td>False</td>\n",
       "      <td>False</td>\n",
       "      <td>True</td>\n",
       "      <td>False</td>\n",
       "      <td>False</td>\n",
       "      <td>False</td>\n",
       "      <td>False</td>\n",
       "      <td>True</td>\n",
       "    </tr>\n",
       "    <tr>\n",
       "      <th>2773</th>\n",
       "      <td>0</td>\n",
       "      <td>0</td>\n",
       "      <td>1</td>\n",
       "      <td>0</td>\n",
       "      <td>0.323944</td>\n",
       "      <td>0</td>\n",
       "      <td>0</td>\n",
       "      <td>0</td>\n",
       "      <td>0</td>\n",
       "      <td>1</td>\n",
       "      <td>...</td>\n",
       "      <td>True</td>\n",
       "      <td>False</td>\n",
       "      <td>False</td>\n",
       "      <td>True</td>\n",
       "      <td>False</td>\n",
       "      <td>False</td>\n",
       "      <td>False</td>\n",
       "      <td>False</td>\n",
       "      <td>True</td>\n",
       "      <td>False</td>\n",
       "    </tr>\n",
       "    <tr>\n",
       "      <th>1936</th>\n",
       "      <td>1</td>\n",
       "      <td>0</td>\n",
       "      <td>1</td>\n",
       "      <td>0</td>\n",
       "      <td>0.704225</td>\n",
       "      <td>1</td>\n",
       "      <td>0</td>\n",
       "      <td>1</td>\n",
       "      <td>1</td>\n",
       "      <td>0</td>\n",
       "      <td>...</td>\n",
       "      <td>True</td>\n",
       "      <td>False</td>\n",
       "      <td>False</td>\n",
       "      <td>False</td>\n",
       "      <td>True</td>\n",
       "      <td>False</td>\n",
       "      <td>True</td>\n",
       "      <td>False</td>\n",
       "      <td>False</td>\n",
       "      <td>False</td>\n",
       "    </tr>\n",
       "    <tr>\n",
       "      <th>5387</th>\n",
       "      <td>0</td>\n",
       "      <td>0</td>\n",
       "      <td>0</td>\n",
       "      <td>0</td>\n",
       "      <td>0.042254</td>\n",
       "      <td>0</td>\n",
       "      <td>0</td>\n",
       "      <td>0</td>\n",
       "      <td>0</td>\n",
       "      <td>0</td>\n",
       "      <td>...</td>\n",
       "      <td>True</td>\n",
       "      <td>False</td>\n",
       "      <td>False</td>\n",
       "      <td>True</td>\n",
       "      <td>False</td>\n",
       "      <td>False</td>\n",
       "      <td>False</td>\n",
       "      <td>False</td>\n",
       "      <td>True</td>\n",
       "      <td>False</td>\n",
       "    </tr>\n",
       "    <tr>\n",
       "      <th>4331</th>\n",
       "      <td>0</td>\n",
       "      <td>0</td>\n",
       "      <td>0</td>\n",
       "      <td>0</td>\n",
       "      <td>0.985915</td>\n",
       "      <td>1</td>\n",
       "      <td>1</td>\n",
       "      <td>0</td>\n",
       "      <td>0</td>\n",
       "      <td>0</td>\n",
       "      <td>...</td>\n",
       "      <td>False</td>\n",
       "      <td>False</td>\n",
       "      <td>True</td>\n",
       "      <td>False</td>\n",
       "      <td>False</td>\n",
       "      <td>True</td>\n",
       "      <td>True</td>\n",
       "      <td>False</td>\n",
       "      <td>False</td>\n",
       "      <td>False</td>\n",
       "    </tr>\n",
       "  </tbody>\n",
       "</table>\n",
       "<p>10 rows × 26 columns</p>\n",
       "</div>"
      ],
      "text/plain": [
       "      gender  SeniorCitizen  Partner  Dependents    tenure  PhoneService  \\\n",
       "5664       1              1        0           0  0.126761             1   \n",
       "101        1              0        1           1  0.000000             1   \n",
       "2621       0              0        1           0  0.985915             1   \n",
       "392        1              1        0           0  0.014085             1   \n",
       "1327       0              0        1           0  0.816901             1   \n",
       "3607       1              0        0           0  0.169014             1   \n",
       "2773       0              0        1           0  0.323944             0   \n",
       "1936       1              0        1           0  0.704225             1   \n",
       "5387       0              0        0           0  0.042254             0   \n",
       "4331       0              0        0           0  0.985915             1   \n",
       "\n",
       "      MultipleLines  OnlineSecurity  OnlineBackup  DeviceProtection  ...  \\\n",
       "5664              0               0             0                 1  ...   \n",
       "101               0               0             0                 0  ...   \n",
       "2621              0               0             1                 1  ...   \n",
       "392               0               0             0                 0  ...   \n",
       "1327              1               0             0                 1  ...   \n",
       "3607              0               1             0                 0  ...   \n",
       "2773              0               0             0                 1  ...   \n",
       "1936              0               1             1                 0  ...   \n",
       "5387              0               0             0                 0  ...   \n",
       "4331              1               0             0                 0  ...   \n",
       "\n",
       "      InternetService_DSL  InternetService_Fiber optic  InternetService_No  \\\n",
       "5664                False                         True               False   \n",
       "101                 False                        False                True   \n",
       "2621                 True                        False               False   \n",
       "392                  True                        False               False   \n",
       "1327                False                         True               False   \n",
       "3607                 True                        False               False   \n",
       "2773                 True                        False               False   \n",
       "1936                 True                        False               False   \n",
       "5387                 True                        False               False   \n",
       "4331                False                        False                True   \n",
       "\n",
       "      Contract_Month-to-month  Contract_One year  Contract_Two year  \\\n",
       "5664                     True              False              False   \n",
       "101                      True              False              False   \n",
       "2621                    False              False               True   \n",
       "392                      True              False              False   \n",
       "1327                    False               True              False   \n",
       "3607                    False               True              False   \n",
       "2773                     True              False              False   \n",
       "1936                    False               True              False   \n",
       "5387                     True              False              False   \n",
       "4331                    False              False               True   \n",
       "\n",
       "      PaymentMethod_Bank transfer (automatic)  \\\n",
       "5664                                    False   \n",
       "101                                     False   \n",
       "2621                                    False   \n",
       "392                                     False   \n",
       "1327                                     True   \n",
       "3607                                    False   \n",
       "2773                                    False   \n",
       "1936                                     True   \n",
       "5387                                    False   \n",
       "4331                                     True   \n",
       "\n",
       "      PaymentMethod_Credit card (automatic)  PaymentMethod_Electronic check  \\\n",
       "5664                                   True                           False   \n",
       "101                                   False                            True   \n",
       "2621                                   True                           False   \n",
       "392                                   False                            True   \n",
       "1327                                  False                           False   \n",
       "3607                                  False                           False   \n",
       "2773                                  False                            True   \n",
       "1936                                  False                           False   \n",
       "5387                                  False                            True   \n",
       "4331                                  False                           False   \n",
       "\n",
       "      PaymentMethod_Mailed check  \n",
       "5664                       False  \n",
       "101                        False  \n",
       "2621                       False  \n",
       "392                        False  \n",
       "1327                       False  \n",
       "3607                        True  \n",
       "2773                       False  \n",
       "1936                       False  \n",
       "5387                       False  \n",
       "4331                       False  \n",
       "\n",
       "[10 rows x 26 columns]"
      ]
     },
     "execution_count": 33,
     "metadata": {},
     "output_type": "execute_result"
    }
   ],
   "source": [
    "X_train[:10]"
   ]
  },
  {
   "cell_type": "code",
   "execution_count": 34,
   "metadata": {},
   "outputs": [],
   "source": [
    "X_train = np.array(X_train).astype(float)\n",
    "y_train = np.array(y_train).astype(int)"
   ]
  },
  {
   "cell_type": "code",
   "execution_count": 35,
   "metadata": {},
   "outputs": [
    {
     "name": "stdout",
     "output_type": "stream",
     "text": [
      "WARNING:tensorflow:From c:\\Users\\User\\AppData\\Local\\Programs\\Python\\Python39\\lib\\site-packages\\keras\\src\\losses.py:2976: The name tf.losses.sparse_softmax_cross_entropy is deprecated. Please use tf.compat.v1.losses.sparse_softmax_cross_entropy instead.\n",
      "\n"
     ]
    }
   ],
   "source": [
    "import tensorflow as tf\n",
    "from tensorflow import keras"
   ]
  },
  {
   "cell_type": "code",
   "execution_count": 36,
   "metadata": {},
   "outputs": [
    {
     "name": "stdout",
     "output_type": "stream",
     "text": [
      "WARNING:tensorflow:From c:\\Users\\User\\AppData\\Local\\Programs\\Python\\Python39\\lib\\site-packages\\keras\\src\\backend.py:873: The name tf.get_default_graph is deprecated. Please use tf.compat.v1.get_default_graph instead.\n",
      "\n",
      "WARNING:tensorflow:From c:\\Users\\User\\AppData\\Local\\Programs\\Python\\Python39\\lib\\site-packages\\keras\\src\\optimizers\\__init__.py:309: The name tf.train.Optimizer is deprecated. Please use tf.compat.v1.train.Optimizer instead.\n",
      "\n",
      "Epoch 1/100\n",
      "WARNING:tensorflow:From c:\\Users\\User\\AppData\\Local\\Programs\\Python\\Python39\\lib\\site-packages\\keras\\src\\utils\\tf_utils.py:492: The name tf.ragged.RaggedTensorValue is deprecated. Please use tf.compat.v1.ragged.RaggedTensorValue instead.\n",
      "\n",
      "WARNING:tensorflow:From c:\\Users\\User\\AppData\\Local\\Programs\\Python\\Python39\\lib\\site-packages\\keras\\src\\engine\\base_layer_utils.py:384: The name tf.executing_eagerly_outside_functions is deprecated. Please use tf.compat.v1.executing_eagerly_outside_functions instead.\n",
      "\n",
      "176/176 [==============================] - 2s 2ms/step - loss: 0.5166 - accuracy: 0.7410\n",
      "Epoch 2/100\n",
      "176/176 [==============================] - 0s 2ms/step - loss: 0.4339 - accuracy: 0.7936\n",
      "Epoch 3/100\n",
      "176/176 [==============================] - 0s 2ms/step - loss: 0.4215 - accuracy: 0.8000\n",
      "Epoch 4/100\n",
      "176/176 [==============================] - 0s 2ms/step - loss: 0.4173 - accuracy: 0.8011\n",
      "Epoch 5/100\n",
      "176/176 [==============================] - 0s 2ms/step - loss: 0.4152 - accuracy: 0.7996\n",
      "Epoch 6/100\n",
      "176/176 [==============================] - 0s 2ms/step - loss: 0.4131 - accuracy: 0.8060\n",
      "Epoch 7/100\n",
      "176/176 [==============================] - 0s 2ms/step - loss: 0.4118 - accuracy: 0.8053\n",
      "Epoch 8/100\n",
      "176/176 [==============================] - 0s 2ms/step - loss: 0.4111 - accuracy: 0.8060\n",
      "Epoch 9/100\n",
      "176/176 [==============================] - 0s 2ms/step - loss: 0.4104 - accuracy: 0.8055\n",
      "Epoch 10/100\n",
      "176/176 [==============================] - 0s 2ms/step - loss: 0.4098 - accuracy: 0.8050\n",
      "Epoch 11/100\n",
      "176/176 [==============================] - 0s 2ms/step - loss: 0.4088 - accuracy: 0.8094\n",
      "Epoch 12/100\n",
      "176/176 [==============================] - 0s 2ms/step - loss: 0.4087 - accuracy: 0.8089\n",
      "Epoch 13/100\n",
      "176/176 [==============================] - 0s 2ms/step - loss: 0.4081 - accuracy: 0.8057\n",
      "Epoch 14/100\n",
      "176/176 [==============================] - 0s 2ms/step - loss: 0.4077 - accuracy: 0.8094\n",
      "Epoch 15/100\n",
      "176/176 [==============================] - 0s 2ms/step - loss: 0.4063 - accuracy: 0.8100\n",
      "Epoch 16/100\n",
      "176/176 [==============================] - 0s 2ms/step - loss: 0.4061 - accuracy: 0.8121\n",
      "Epoch 17/100\n",
      "176/176 [==============================] - 0s 2ms/step - loss: 0.4063 - accuracy: 0.8089\n",
      "Epoch 18/100\n",
      "176/176 [==============================] - 0s 2ms/step - loss: 0.4061 - accuracy: 0.8123\n",
      "Epoch 19/100\n",
      "176/176 [==============================] - 0s 2ms/step - loss: 0.4056 - accuracy: 0.8119\n",
      "Epoch 20/100\n",
      "176/176 [==============================] - 0s 2ms/step - loss: 0.4040 - accuracy: 0.8116\n",
      "Epoch 21/100\n",
      "176/176 [==============================] - 0s 2ms/step - loss: 0.4040 - accuracy: 0.8124\n",
      "Epoch 22/100\n",
      "176/176 [==============================] - 0s 2ms/step - loss: 0.4034 - accuracy: 0.8140\n",
      "Epoch 23/100\n",
      "176/176 [==============================] - 0s 2ms/step - loss: 0.4030 - accuracy: 0.8123\n",
      "Epoch 24/100\n",
      "176/176 [==============================] - 0s 2ms/step - loss: 0.4025 - accuracy: 0.8098\n",
      "Epoch 25/100\n",
      "176/176 [==============================] - 0s 2ms/step - loss: 0.4015 - accuracy: 0.8126\n",
      "Epoch 26/100\n",
      "176/176 [==============================] - 0s 2ms/step - loss: 0.4016 - accuracy: 0.8130\n",
      "Epoch 27/100\n",
      "176/176 [==============================] - 0s 2ms/step - loss: 0.4017 - accuracy: 0.8135\n",
      "Epoch 28/100\n",
      "176/176 [==============================] - 0s 2ms/step - loss: 0.4005 - accuracy: 0.8116\n",
      "Epoch 29/100\n",
      "176/176 [==============================] - 0s 2ms/step - loss: 0.4001 - accuracy: 0.8126\n",
      "Epoch 30/100\n",
      "176/176 [==============================] - 0s 2ms/step - loss: 0.4001 - accuracy: 0.8142\n",
      "Epoch 31/100\n",
      "176/176 [==============================] - 0s 3ms/step - loss: 0.3996 - accuracy: 0.8135\n",
      "Epoch 32/100\n",
      "176/176 [==============================] - 0s 2ms/step - loss: 0.3982 - accuracy: 0.8139\n",
      "Epoch 33/100\n",
      "176/176 [==============================] - 0s 2ms/step - loss: 0.3986 - accuracy: 0.8155\n",
      "Epoch 34/100\n",
      "176/176 [==============================] - 0s 2ms/step - loss: 0.3984 - accuracy: 0.8165\n",
      "Epoch 35/100\n",
      "176/176 [==============================] - 0s 2ms/step - loss: 0.3982 - accuracy: 0.8139\n",
      "Epoch 36/100\n",
      "176/176 [==============================] - 0s 2ms/step - loss: 0.3973 - accuracy: 0.8165\n",
      "Epoch 37/100\n",
      "176/176 [==============================] - 0s 2ms/step - loss: 0.3979 - accuracy: 0.8137\n",
      "Epoch 38/100\n",
      "176/176 [==============================] - 0s 2ms/step - loss: 0.3964 - accuracy: 0.8151\n",
      "Epoch 39/100\n",
      "176/176 [==============================] - 0s 2ms/step - loss: 0.3958 - accuracy: 0.8151\n",
      "Epoch 40/100\n",
      "176/176 [==============================] - 0s 2ms/step - loss: 0.3962 - accuracy: 0.8197\n",
      "Epoch 41/100\n",
      "176/176 [==============================] - 0s 2ms/step - loss: 0.3954 - accuracy: 0.8155\n",
      "Epoch 42/100\n",
      "176/176 [==============================] - 0s 2ms/step - loss: 0.3957 - accuracy: 0.8174\n",
      "Epoch 43/100\n",
      "176/176 [==============================] - 0s 2ms/step - loss: 0.3951 - accuracy: 0.8174\n",
      "Epoch 44/100\n",
      "176/176 [==============================] - 0s 2ms/step - loss: 0.3944 - accuracy: 0.8181\n",
      "Epoch 45/100\n",
      "176/176 [==============================] - 0s 2ms/step - loss: 0.3940 - accuracy: 0.8187\n",
      "Epoch 46/100\n",
      "176/176 [==============================] - 0s 2ms/step - loss: 0.3937 - accuracy: 0.8187\n",
      "Epoch 47/100\n",
      "176/176 [==============================] - 0s 2ms/step - loss: 0.3939 - accuracy: 0.8181\n",
      "Epoch 48/100\n",
      "176/176 [==============================] - 0s 2ms/step - loss: 0.3927 - accuracy: 0.8174\n",
      "Epoch 49/100\n",
      "176/176 [==============================] - 0s 2ms/step - loss: 0.3926 - accuracy: 0.8197\n",
      "Epoch 50/100\n",
      "176/176 [==============================] - 0s 2ms/step - loss: 0.3926 - accuracy: 0.8187\n",
      "Epoch 51/100\n",
      "176/176 [==============================] - 0s 3ms/step - loss: 0.3919 - accuracy: 0.8187\n",
      "Epoch 52/100\n",
      "176/176 [==============================] - 0s 2ms/step - loss: 0.3922 - accuracy: 0.8176\n",
      "Epoch 53/100\n",
      "176/176 [==============================] - 0s 2ms/step - loss: 0.3914 - accuracy: 0.8215\n",
      "Epoch 54/100\n",
      "176/176 [==============================] - 0s 2ms/step - loss: 0.3914 - accuracy: 0.8190\n",
      "Epoch 55/100\n",
      "176/176 [==============================] - 0s 2ms/step - loss: 0.3915 - accuracy: 0.8228\n",
      "Epoch 56/100\n",
      "176/176 [==============================] - 0s 2ms/step - loss: 0.3908 - accuracy: 0.8190\n",
      "Epoch 57/100\n",
      "176/176 [==============================] - 0s 2ms/step - loss: 0.3908 - accuracy: 0.8169\n",
      "Epoch 58/100\n",
      "176/176 [==============================] - 0s 2ms/step - loss: 0.3908 - accuracy: 0.8187\n",
      "Epoch 59/100\n",
      "176/176 [==============================] - 0s 2ms/step - loss: 0.3899 - accuracy: 0.8180\n",
      "Epoch 60/100\n",
      "176/176 [==============================] - 0s 2ms/step - loss: 0.3894 - accuracy: 0.8190\n",
      "Epoch 61/100\n",
      "176/176 [==============================] - 0s 2ms/step - loss: 0.3897 - accuracy: 0.8213\n",
      "Epoch 62/100\n",
      "176/176 [==============================] - 0s 2ms/step - loss: 0.3887 - accuracy: 0.8215\n",
      "Epoch 63/100\n",
      "176/176 [==============================] - 0s 2ms/step - loss: 0.3882 - accuracy: 0.8220\n",
      "Epoch 64/100\n",
      "176/176 [==============================] - 0s 2ms/step - loss: 0.3888 - accuracy: 0.8226\n",
      "Epoch 65/100\n",
      "176/176 [==============================] - 0s 2ms/step - loss: 0.3889 - accuracy: 0.8192\n",
      "Epoch 66/100\n",
      "176/176 [==============================] - 0s 2ms/step - loss: 0.3876 - accuracy: 0.8222\n",
      "Epoch 67/100\n",
      "176/176 [==============================] - 0s 2ms/step - loss: 0.3885 - accuracy: 0.8224\n",
      "Epoch 68/100\n",
      "176/176 [==============================] - 0s 2ms/step - loss: 0.3873 - accuracy: 0.8235\n",
      "Epoch 69/100\n",
      "176/176 [==============================] - 0s 2ms/step - loss: 0.3887 - accuracy: 0.8213\n",
      "Epoch 70/100\n",
      "176/176 [==============================] - 0s 2ms/step - loss: 0.3873 - accuracy: 0.8240\n",
      "Epoch 71/100\n",
      "176/176 [==============================] - 0s 2ms/step - loss: 0.3875 - accuracy: 0.8210\n",
      "Epoch 72/100\n",
      "176/176 [==============================] - 0s 2ms/step - loss: 0.3863 - accuracy: 0.8240\n",
      "Epoch 73/100\n",
      "176/176 [==============================] - 0s 2ms/step - loss: 0.3868 - accuracy: 0.8206\n",
      "Epoch 74/100\n",
      "176/176 [==============================] - 0s 2ms/step - loss: 0.3866 - accuracy: 0.8229\n",
      "Epoch 75/100\n",
      "176/176 [==============================] - 0s 2ms/step - loss: 0.3870 - accuracy: 0.8213\n",
      "Epoch 76/100\n",
      "176/176 [==============================] - 0s 2ms/step - loss: 0.3857 - accuracy: 0.8224\n",
      "Epoch 77/100\n",
      "176/176 [==============================] - 1s 5ms/step - loss: 0.3857 - accuracy: 0.8226\n",
      "Epoch 78/100\n",
      "176/176 [==============================] - 1s 3ms/step - loss: 0.3856 - accuracy: 0.8236\n",
      "Epoch 79/100\n",
      "176/176 [==============================] - 0s 2ms/step - loss: 0.3860 - accuracy: 0.8240\n",
      "Epoch 80/100\n",
      "176/176 [==============================] - 0s 2ms/step - loss: 0.3850 - accuracy: 0.8222\n",
      "Epoch 81/100\n",
      "176/176 [==============================] - 0s 3ms/step - loss: 0.3852 - accuracy: 0.8254\n",
      "Epoch 82/100\n",
      "176/176 [==============================] - 0s 3ms/step - loss: 0.3856 - accuracy: 0.8222\n",
      "Epoch 83/100\n",
      "176/176 [==============================] - 0s 2ms/step - loss: 0.3847 - accuracy: 0.8240\n",
      "Epoch 84/100\n",
      "176/176 [==============================] - 0s 2ms/step - loss: 0.3844 - accuracy: 0.8222\n",
      "Epoch 85/100\n",
      "176/176 [==============================] - 1s 3ms/step - loss: 0.3846 - accuracy: 0.8217\n",
      "Epoch 86/100\n",
      "176/176 [==============================] - 1s 4ms/step - loss: 0.3842 - accuracy: 0.8231\n",
      "Epoch 87/100\n",
      "176/176 [==============================] - 0s 2ms/step - loss: 0.3841 - accuracy: 0.8220\n",
      "Epoch 88/100\n",
      "176/176 [==============================] - 0s 2ms/step - loss: 0.3834 - accuracy: 0.8247\n",
      "Epoch 89/100\n",
      "176/176 [==============================] - 0s 2ms/step - loss: 0.3835 - accuracy: 0.8251\n",
      "Epoch 90/100\n",
      "176/176 [==============================] - 0s 2ms/step - loss: 0.3838 - accuracy: 0.8233\n",
      "Epoch 91/100\n",
      "176/176 [==============================] - 0s 2ms/step - loss: 0.3828 - accuracy: 0.8245\n",
      "Epoch 92/100\n",
      "176/176 [==============================] - 0s 2ms/step - loss: 0.3831 - accuracy: 0.8228\n",
      "Epoch 93/100\n",
      "176/176 [==============================] - 0s 2ms/step - loss: 0.3825 - accuracy: 0.8235\n",
      "Epoch 94/100\n",
      "176/176 [==============================] - 0s 2ms/step - loss: 0.3826 - accuracy: 0.8261\n",
      "Epoch 95/100\n",
      "176/176 [==============================] - 0s 3ms/step - loss: 0.3819 - accuracy: 0.8267\n",
      "Epoch 96/100\n",
      "176/176 [==============================] - 0s 2ms/step - loss: 0.3820 - accuracy: 0.8245\n",
      "Epoch 97/100\n",
      "176/176 [==============================] - 0s 2ms/step - loss: 0.3827 - accuracy: 0.8238\n",
      "Epoch 98/100\n",
      "176/176 [==============================] - 0s 2ms/step - loss: 0.3822 - accuracy: 0.8247\n",
      "Epoch 99/100\n",
      "176/176 [==============================] - 0s 2ms/step - loss: 0.3809 - accuracy: 0.8245\n",
      "Epoch 100/100\n",
      "176/176 [==============================] - 0s 3ms/step - loss: 0.3823 - accuracy: 0.8224\n"
     ]
    },
    {
     "data": {
      "text/plain": [
       "<keras.src.callbacks.History at 0x219b8f1dc70>"
      ]
     },
     "execution_count": 36,
     "metadata": {},
     "output_type": "execute_result"
    }
   ],
   "source": [
    "model = keras.Sequential([\n",
    "    keras.layers.Dense(26,input_shape=(26,),activation='relu'),\n",
    "    keras.layers.Dense(1,activation='sigmoid')\n",
    "])\n",
    "\n",
    "model.compile(optimizer='adam',\n",
    "              loss='binary_crossentropy',\n",
    "              metrics=['accuracy'])\n",
    "\n",
    "model.fit(X_train,y_train,epochs=100)"
   ]
  },
  {
   "cell_type": "code",
   "execution_count": 37,
   "metadata": {},
   "outputs": [],
   "source": [
    "X_test = np.array(X_test).astype(float)\n",
    "y_test = np.array(y_test).astype(int)"
   ]
  },
  {
   "cell_type": "code",
   "execution_count": 38,
   "metadata": {},
   "outputs": [
    {
     "name": "stdout",
     "output_type": "stream",
     "text": [
      "44/44 [==============================] - 0s 2ms/step - loss: 0.4514 - accuracy: 0.7875\n"
     ]
    },
    {
     "data": {
      "text/plain": [
       "[0.45138639211654663, 0.7874911427497864]"
      ]
     },
     "execution_count": 38,
     "metadata": {},
     "output_type": "execute_result"
    }
   ],
   "source": [
    "model.evaluate(X_test,y_test)"
   ]
  },
  {
   "cell_type": "code",
   "execution_count": 39,
   "metadata": {},
   "outputs": [
    {
     "name": "stdout",
     "output_type": "stream",
     "text": [
      "44/44 [==============================] - 0s 2ms/step\n"
     ]
    },
    {
     "data": {
      "text/plain": [
       "array([[0.17994633],\n",
       "       [0.46932366],\n",
       "       [0.00946798],\n",
       "       [0.7110991 ],\n",
       "       [0.7524672 ]], dtype=float32)"
      ]
     },
     "execution_count": 39,
     "metadata": {},
     "output_type": "execute_result"
    }
   ],
   "source": [
    "yp = model.predict(X_test)\n",
    "yp[:5]"
   ]
  },
  {
   "cell_type": "code",
   "execution_count": 40,
   "metadata": {},
   "outputs": [
    {
     "data": {
      "text/plain": [
       "array([0, 0, 1, 1, 1])"
      ]
     },
     "execution_count": 40,
     "metadata": {},
     "output_type": "execute_result"
    }
   ],
   "source": [
    "y_test[:5]"
   ]
  },
  {
   "cell_type": "code",
   "execution_count": 41,
   "metadata": {},
   "outputs": [],
   "source": [
    "y_pred = []\n",
    "for element in yp:\n",
    "    if element>0.5:\n",
    "        y_pred.append(1)\n",
    "    else:\n",
    "        y_pred.append(0)"
   ]
  },
  {
   "cell_type": "code",
   "execution_count": 42,
   "metadata": {},
   "outputs": [
    {
     "data": {
      "text/plain": [
       "array([0, 0, 1, 1, 1, 1, 0, 0, 0, 0])"
      ]
     },
     "execution_count": 42,
     "metadata": {},
     "output_type": "execute_result"
    }
   ],
   "source": [
    "y_test[:10]"
   ]
  },
  {
   "cell_type": "code",
   "execution_count": 43,
   "metadata": {},
   "outputs": [
    {
     "data": {
      "text/plain": [
       "[0, 0, 0, 1, 1, 1, 0, 1, 0, 0]"
      ]
     },
     "execution_count": 43,
     "metadata": {},
     "output_type": "execute_result"
    }
   ],
   "source": [
    "y_pred[:10]"
   ]
  },
  {
   "cell_type": "code",
   "execution_count": 33,
   "metadata": {},
   "outputs": [
    {
     "data": {
      "text/plain": [
       "Churn\n",
       "0    5163\n",
       "1    1869\n",
       "Name: count, dtype: int64"
      ]
     },
     "execution_count": 33,
     "metadata": {},
     "output_type": "execute_result"
    }
   ],
   "source": [
    "df1['Churn'].value_counts()"
   ]
  },
  {
   "cell_type": "code",
   "execution_count": 44,
   "metadata": {},
   "outputs": [
    {
     "name": "stdout",
     "output_type": "stream",
     "text": [
      "              precision    recall  f1-score   support\n",
      "\n",
      "           0       0.82      0.89      0.86       999\n",
      "           1       0.67      0.52      0.59       408\n",
      "\n",
      "    accuracy                           0.79      1407\n",
      "   macro avg       0.75      0.71      0.72      1407\n",
      "weighted avg       0.78      0.79      0.78      1407\n",
      "\n"
     ]
    }
   ],
   "source": [
    "from sklearn.metrics import confusion_matrix, classification_report\n",
    "\n",
    "print(classification_report(y_test,y_pred))"
   ]
  },
  {
   "cell_type": "code",
   "execution_count": 45,
   "metadata": {},
   "outputs": [
    {
     "data": {
      "text/plain": [
       "Text(95.72222222222221, 0.5, 'Truth')"
      ]
     },
     "execution_count": 45,
     "metadata": {},
     "output_type": "execute_result"
    },
    {
     "data": {
      "image/png": "[encoded data removed]",
      "text/plain": [
       "<Figure size 1000x700 with 2 Axes>"
      ]
     },
     "metadata": {},
     "output_type": "display_data"
    }
   ],
   "source": [
    "import seaborn as sns\n",
    "cm = tf.math.confusion_matrix(labels=y_test,predictions=y_pred)\n",
    "\n",
    "plt.figure(figsize=(10,7))\n",
    "sns.heatmap(cm,annot=True,fmt='d')\n",
    "plt.xlabel('Predicted')\n",
    "plt.ylabel('Truth')"
   ]
  },
  {
   "cell_type": "markdown",
   "metadata": {},
   "source": [
    "# Imbalanced Dataset"
   ]
  },
  {
   "cell_type": "code",
   "execution_count": 46,
   "metadata": {},
   "outputs": [],
   "source": [
    "def ANN(X_train, y_train, X_test, y_test, loss, weights):\n",
    "    model = keras.Sequential([\n",
    "        keras.layers.Dense(26, input_dim=26, activation='relu'),\n",
    "        keras.layers.Dense(15, activation='relu'),\n",
    "        keras.layers.Dense(1, activation='sigmoid')\n",
    "    ])\n",
    "\n",
    "    model.compile(optimizer='adam', loss=loss, metrics=['accuracy'])\n",
    "    \n",
    "    if weights == -1:\n",
    "        model.fit(X_train, y_train, epochs=100)\n",
    "    else:\n",
    "        model.fit(X_train, y_train, epochs=100, class_weight = weights)\n",
    "    \n",
    "    print(model.evaluate(X_test, y_test))\n",
    "    \n",
    "    y_preds = model.predict(X_test)\n",
    "    y_preds = np.round(y_preds)\n",
    "    \n",
    "    print(\"Classification Report: \\n\", classification_report(y_test, y_preds))\n",
    "    \n",
    "    return y_preds"
   ]
  },
  {
   "cell_type": "code",
   "execution_count": 47,
   "metadata": {},
   "outputs": [
    {
     "name": "stdout",
     "output_type": "stream",
     "text": [
      "Epoch 1/100\n",
      "176/176 [==============================] - 2s 3ms/step - loss: 0.4966 - accuracy: 0.7586\n",
      "Epoch 2/100\n",
      "176/176 [==============================] - 0s 3ms/step - loss: 0.4292 - accuracy: 0.7906\n",
      "Epoch 3/100\n",
      "176/176 [==============================] - 0s 2ms/step - loss: 0.4199 - accuracy: 0.7979\n",
      "Epoch 4/100\n",
      "176/176 [==============================] - 0s 2ms/step - loss: 0.4156 - accuracy: 0.7988\n",
      "Epoch 5/100\n",
      "176/176 [==============================] - 0s 2ms/step - loss: 0.4128 - accuracy: 0.8021\n",
      "Epoch 6/100\n",
      "176/176 [==============================] - 0s 2ms/step - loss: 0.4109 - accuracy: 0.8027\n",
      "Epoch 7/100\n",
      "176/176 [==============================] - 1s 3ms/step - loss: 0.4091 - accuracy: 0.8068\n",
      "Epoch 8/100\n",
      "176/176 [==============================] - 0s 2ms/step - loss: 0.4076 - accuracy: 0.8071\n",
      "Epoch 9/100\n",
      "176/176 [==============================] - 0s 2ms/step - loss: 0.4058 - accuracy: 0.8057\n",
      "Epoch 10/100\n",
      "176/176 [==============================] - 0s 2ms/step - loss: 0.4056 - accuracy: 0.8098\n",
      "Epoch 11/100\n",
      "176/176 [==============================] - 0s 2ms/step - loss: 0.4037 - accuracy: 0.8098\n",
      "Epoch 12/100\n",
      "176/176 [==============================] - 0s 2ms/step - loss: 0.4022 - accuracy: 0.8096\n",
      "Epoch 13/100\n",
      "176/176 [==============================] - 0s 2ms/step - loss: 0.4012 - accuracy: 0.8123\n",
      "Epoch 14/100\n",
      "176/176 [==============================] - 0s 2ms/step - loss: 0.4021 - accuracy: 0.8103\n",
      "Epoch 15/100\n",
      "176/176 [==============================] - 0s 2ms/step - loss: 0.4005 - accuracy: 0.8075\n",
      "Epoch 16/100\n",
      "176/176 [==============================] - 0s 2ms/step - loss: 0.3981 - accuracy: 0.8124\n",
      "Epoch 17/100\n",
      "176/176 [==============================] - 0s 2ms/step - loss: 0.3978 - accuracy: 0.8123\n",
      "Epoch 18/100\n",
      "176/176 [==============================] - 0s 2ms/step - loss: 0.3970 - accuracy: 0.8130\n",
      "Epoch 19/100\n",
      "176/176 [==============================] - 0s 2ms/step - loss: 0.3960 - accuracy: 0.8107\n",
      "Epoch 20/100\n",
      "176/176 [==============================] - 0s 2ms/step - loss: 0.3958 - accuracy: 0.8103\n",
      "Epoch 21/100\n",
      "176/176 [==============================] - 0s 2ms/step - loss: 0.3949 - accuracy: 0.8140\n",
      "Epoch 22/100\n",
      "176/176 [==============================] - 0s 2ms/step - loss: 0.3936 - accuracy: 0.8142\n",
      "Epoch 23/100\n",
      "176/176 [==============================] - 0s 2ms/step - loss: 0.3933 - accuracy: 0.8144\n",
      "Epoch 24/100\n",
      "176/176 [==============================] - 0s 2ms/step - loss: 0.3920 - accuracy: 0.8146\n",
      "Epoch 25/100\n",
      "176/176 [==============================] - 0s 2ms/step - loss: 0.3923 - accuracy: 0.8135\n",
      "Epoch 26/100\n",
      "176/176 [==============================] - 0s 2ms/step - loss: 0.3901 - accuracy: 0.8156\n",
      "Epoch 27/100\n",
      "176/176 [==============================] - 0s 2ms/step - loss: 0.3891 - accuracy: 0.8148\n",
      "Epoch 28/100\n",
      "176/176 [==============================] - 0s 2ms/step - loss: 0.3903 - accuracy: 0.8155\n",
      "Epoch 29/100\n",
      "176/176 [==============================] - 0s 2ms/step - loss: 0.3881 - accuracy: 0.8167\n",
      "Epoch 30/100\n",
      "176/176 [==============================] - 0s 2ms/step - loss: 0.3877 - accuracy: 0.8149\n",
      "Epoch 31/100\n",
      "176/176 [==============================] - 0s 2ms/step - loss: 0.3869 - accuracy: 0.8183\n",
      "Epoch 32/100\n",
      "176/176 [==============================] - 0s 2ms/step - loss: 0.3856 - accuracy: 0.8178\n",
      "Epoch 33/100\n",
      "176/176 [==============================] - 0s 2ms/step - loss: 0.3854 - accuracy: 0.8180\n",
      "Epoch 34/100\n",
      "176/176 [==============================] - 0s 2ms/step - loss: 0.3847 - accuracy: 0.8192\n",
      "Epoch 35/100\n",
      "176/176 [==============================] - 0s 2ms/step - loss: 0.3840 - accuracy: 0.8180\n",
      "Epoch 36/100\n",
      "176/176 [==============================] - 0s 2ms/step - loss: 0.3833 - accuracy: 0.8181\n",
      "Epoch 37/100\n",
      "176/176 [==============================] - 0s 2ms/step - loss: 0.3824 - accuracy: 0.8181\n",
      "Epoch 38/100\n",
      "176/176 [==============================] - 0s 2ms/step - loss: 0.3806 - accuracy: 0.8196\n",
      "Epoch 39/100\n",
      "176/176 [==============================] - 0s 2ms/step - loss: 0.3806 - accuracy: 0.8206\n",
      "Epoch 40/100\n",
      "176/176 [==============================] - 0s 2ms/step - loss: 0.3795 - accuracy: 0.8203\n",
      "Epoch 41/100\n",
      "176/176 [==============================] - 0s 2ms/step - loss: 0.3787 - accuracy: 0.8208\n",
      "Epoch 42/100\n",
      "176/176 [==============================] - 0s 2ms/step - loss: 0.3788 - accuracy: 0.8235\n",
      "Epoch 43/100\n",
      "176/176 [==============================] - 0s 2ms/step - loss: 0.3778 - accuracy: 0.8217\n",
      "Epoch 44/100\n",
      "176/176 [==============================] - 0s 2ms/step - loss: 0.3770 - accuracy: 0.8229\n",
      "Epoch 45/100\n",
      "176/176 [==============================] - 0s 2ms/step - loss: 0.3764 - accuracy: 0.8231\n",
      "Epoch 46/100\n",
      "176/176 [==============================] - 0s 2ms/step - loss: 0.3768 - accuracy: 0.8226\n",
      "Epoch 47/100\n",
      "176/176 [==============================] - 0s 2ms/step - loss: 0.3753 - accuracy: 0.8213\n",
      "Epoch 48/100\n",
      "176/176 [==============================] - 0s 2ms/step - loss: 0.3744 - accuracy: 0.8252\n",
      "Epoch 49/100\n",
      "176/176 [==============================] - 0s 2ms/step - loss: 0.3730 - accuracy: 0.8260\n",
      "Epoch 50/100\n",
      "176/176 [==============================] - 0s 2ms/step - loss: 0.3729 - accuracy: 0.8276\n",
      "Epoch 51/100\n",
      "176/176 [==============================] - 0s 2ms/step - loss: 0.3722 - accuracy: 0.8219\n",
      "Epoch 52/100\n",
      "176/176 [==============================] - 0s 2ms/step - loss: 0.3718 - accuracy: 0.8258\n",
      "Epoch 53/100\n",
      "176/176 [==============================] - 0s 2ms/step - loss: 0.3706 - accuracy: 0.8242\n",
      "Epoch 54/100\n",
      "176/176 [==============================] - 0s 2ms/step - loss: 0.3701 - accuracy: 0.8265\n",
      "Epoch 55/100\n",
      "176/176 [==============================] - 0s 2ms/step - loss: 0.3689 - accuracy: 0.8297\n",
      "Epoch 56/100\n",
      "176/176 [==============================] - 0s 2ms/step - loss: 0.3680 - accuracy: 0.8272\n",
      "Epoch 57/100\n",
      "176/176 [==============================] - 0s 2ms/step - loss: 0.3677 - accuracy: 0.8286\n",
      "Epoch 58/100\n",
      "176/176 [==============================] - 0s 2ms/step - loss: 0.3666 - accuracy: 0.8316\n",
      "Epoch 59/100\n",
      "176/176 [==============================] - 0s 2ms/step - loss: 0.3683 - accuracy: 0.8270\n",
      "Epoch 60/100\n",
      "176/176 [==============================] - 0s 2ms/step - loss: 0.3660 - accuracy: 0.8272\n",
      "Epoch 61/100\n",
      "176/176 [==============================] - 0s 2ms/step - loss: 0.3650 - accuracy: 0.8286\n",
      "Epoch 62/100\n",
      "176/176 [==============================] - 0s 2ms/step - loss: 0.3643 - accuracy: 0.8283\n",
      "Epoch 63/100\n",
      "176/176 [==============================] - 0s 2ms/step - loss: 0.3647 - accuracy: 0.8292\n",
      "Epoch 64/100\n",
      "176/176 [==============================] - 0s 2ms/step - loss: 0.3621 - accuracy: 0.8322\n",
      "Epoch 65/100\n",
      "176/176 [==============================] - 0s 2ms/step - loss: 0.3628 - accuracy: 0.8304\n",
      "Epoch 66/100\n",
      "176/176 [==============================] - 0s 2ms/step - loss: 0.3625 - accuracy: 0.8290\n",
      "Epoch 67/100\n",
      "176/176 [==============================] - 0s 2ms/step - loss: 0.3620 - accuracy: 0.8299\n",
      "Epoch 68/100\n",
      "176/176 [==============================] - 0s 2ms/step - loss: 0.3611 - accuracy: 0.8325\n",
      "Epoch 69/100\n",
      "176/176 [==============================] - 0s 2ms/step - loss: 0.3605 - accuracy: 0.8304\n",
      "Epoch 70/100\n",
      "176/176 [==============================] - 0s 2ms/step - loss: 0.3601 - accuracy: 0.8343\n",
      "Epoch 71/100\n",
      "176/176 [==============================] - 0s 3ms/step - loss: 0.3588 - accuracy: 0.8336\n",
      "Epoch 72/100\n",
      "176/176 [==============================] - 0s 2ms/step - loss: 0.3583 - accuracy: 0.8331\n",
      "Epoch 73/100\n",
      "176/176 [==============================] - 0s 2ms/step - loss: 0.3592 - accuracy: 0.8354\n",
      "Epoch 74/100\n",
      "176/176 [==============================] - 0s 2ms/step - loss: 0.3585 - accuracy: 0.8332\n",
      "Epoch 75/100\n",
      "176/176 [==============================] - 0s 2ms/step - loss: 0.3575 - accuracy: 0.8324\n",
      "Epoch 76/100\n",
      "176/176 [==============================] - 0s 2ms/step - loss: 0.3578 - accuracy: 0.8336\n",
      "Epoch 77/100\n",
      "176/176 [==============================] - 0s 2ms/step - loss: 0.3559 - accuracy: 0.8336\n",
      "Epoch 78/100\n",
      "176/176 [==============================] - 0s 2ms/step - loss: 0.3546 - accuracy: 0.8348\n",
      "Epoch 79/100\n",
      "176/176 [==============================] - 0s 2ms/step - loss: 0.3546 - accuracy: 0.8341\n",
      "Epoch 80/100\n",
      "176/176 [==============================] - 0s 2ms/step - loss: 0.3541 - accuracy: 0.8336\n",
      "Epoch 81/100\n",
      "176/176 [==============================] - 0s 2ms/step - loss: 0.3528 - accuracy: 0.8343\n",
      "Epoch 82/100\n",
      "176/176 [==============================] - 0s 2ms/step - loss: 0.3533 - accuracy: 0.8379\n",
      "Epoch 83/100\n",
      "176/176 [==============================] - 0s 2ms/step - loss: 0.3536 - accuracy: 0.8386\n",
      "Epoch 84/100\n",
      "176/176 [==============================] - 0s 2ms/step - loss: 0.3522 - accuracy: 0.8411\n",
      "Epoch 85/100\n",
      "176/176 [==============================] - 0s 2ms/step - loss: 0.3518 - accuracy: 0.8364\n",
      "Epoch 86/100\n",
      "176/176 [==============================] - 0s 2ms/step - loss: 0.3515 - accuracy: 0.8361\n",
      "Epoch 87/100\n",
      "176/176 [==============================] - 0s 2ms/step - loss: 0.3508 - accuracy: 0.8375\n",
      "Epoch 88/100\n",
      "176/176 [==============================] - 0s 2ms/step - loss: 0.3497 - accuracy: 0.8391\n",
      "Epoch 89/100\n",
      "176/176 [==============================] - 0s 2ms/step - loss: 0.3503 - accuracy: 0.8359\n",
      "Epoch 90/100\n",
      "176/176 [==============================] - 0s 2ms/step - loss: 0.3496 - accuracy: 0.8398\n",
      "Epoch 91/100\n",
      "176/176 [==============================] - 0s 2ms/step - loss: 0.3485 - accuracy: 0.8368\n",
      "Epoch 92/100\n",
      "176/176 [==============================] - 0s 2ms/step - loss: 0.3492 - accuracy: 0.8377\n",
      "Epoch 93/100\n",
      "176/176 [==============================] - 0s 2ms/step - loss: 0.3479 - accuracy: 0.8379\n",
      "Epoch 94/100\n",
      "176/176 [==============================] - 0s 2ms/step - loss: 0.3486 - accuracy: 0.8352\n",
      "Epoch 95/100\n",
      "176/176 [==============================] - 0s 2ms/step - loss: 0.3469 - accuracy: 0.8395\n",
      "Epoch 96/100\n",
      "176/176 [==============================] - 0s 2ms/step - loss: 0.3472 - accuracy: 0.8370\n",
      "Epoch 97/100\n",
      "176/176 [==============================] - 0s 2ms/step - loss: 0.3470 - accuracy: 0.8400\n",
      "Epoch 98/100\n",
      "176/176 [==============================] - 0s 2ms/step - loss: 0.3456 - accuracy: 0.8382\n",
      "Epoch 99/100\n",
      "176/176 [==============================] - 0s 2ms/step - loss: 0.3465 - accuracy: 0.8377\n",
      "Epoch 100/100\n",
      "176/176 [==============================] - 0s 2ms/step - loss: 0.3445 - accuracy: 0.8398\n",
      "44/44 [==============================] - 0s 2ms/step - loss: 0.4935 - accuracy: 0.7676\n",
      "[0.49352484941482544, 0.7675906419754028]\n",
      "44/44 [==============================] - 0s 2ms/step\n",
      "Classification Report: \n",
      "               precision    recall  f1-score   support\n",
      "\n",
      "           0       0.82      0.86      0.84       999\n",
      "           1       0.61      0.54      0.58       408\n",
      "\n",
      "    accuracy                           0.77      1407\n",
      "   macro avg       0.72      0.70      0.71      1407\n",
      "weighted avg       0.76      0.77      0.76      1407\n",
      "\n"
     ]
    }
   ],
   "source": [
    "y_preds = ANN(X_train, y_train, X_test, y_test, 'binary_crossentropy', -1)"
   ]
  },
  {
   "cell_type": "markdown",
   "metadata": {},
   "source": [
    "# Method 1: Undersampling"
   ]
  },
  {
   "cell_type": "code",
   "execution_count": 48,
   "metadata": {},
   "outputs": [],
   "source": [
    "# Class count\n",
    "count_class_0, count_class_1 = df1.Churn.value_counts()\n",
    "\n",
    "# Divide by class\n",
    "df_class_0 = df2[df2['Churn'] == 0]\n",
    "df_class_1 = df2[df2['Churn'] == 1]"
   ]
  },
  {
   "cell_type": "code",
   "execution_count": 49,
   "metadata": {},
   "outputs": [
    {
     "data": {
      "text/plain": [
       "(5163, 1869)"
      ]
     },
     "execution_count": 49,
     "metadata": {},
     "output_type": "execute_result"
    }
   ],
   "source": [
    "count_class_0, count_class_1"
   ]
  },
  {
   "cell_type": "code",
   "execution_count": 50,
   "metadata": {},
   "outputs": [
    {
     "data": {
      "text/plain": [
       "(5163, 27)"
      ]
     },
     "execution_count": 50,
     "metadata": {},
     "output_type": "execute_result"
    }
   ],
   "source": [
    "df_class_0.shape"
   ]
  },
  {
   "cell_type": "code",
   "execution_count": 51,
   "metadata": {},
   "outputs": [
    {
     "data": {
      "text/plain": [
       "(1869, 27)"
      ]
     },
     "execution_count": 51,
     "metadata": {},
     "output_type": "execute_result"
    }
   ],
   "source": [
    "df_class_1.shape"
   ]
  },
  {
   "cell_type": "code",
   "execution_count": 52,
   "metadata": {},
   "outputs": [],
   "source": [
    "df_class_0_under = df_class_0.sample(count_class_1)"
   ]
  },
  {
   "cell_type": "code",
   "execution_count": 53,
   "metadata": {},
   "outputs": [
    {
     "data": {
      "text/plain": [
       "(3738, 27)"
      ]
     },
     "execution_count": 53,
     "metadata": {},
     "output_type": "execute_result"
    }
   ],
   "source": [
    "df_test_under = pd.concat([df_class_0_under,df_class_1],axis=0)\n",
    "df_test_under.shape"
   ]
  },
  {
   "cell_type": "code",
   "execution_count": 54,
   "metadata": {},
   "outputs": [
    {
     "name": "stdout",
     "output_type": "stream",
     "text": [
      "Random under-sampling:\n",
      "Churn\n",
      "0    1869\n",
      "1    1869\n",
      "Name: count, dtype: int64\n"
     ]
    }
   ],
   "source": [
    "print(\"Random under-sampling:\")\n",
    "print(df_test_under.Churn.value_counts())"
   ]
  },
  {
   "cell_type": "code",
   "execution_count": 55,
   "metadata": {},
   "outputs": [],
   "source": [
    "X = df_test_under.drop('Churn',axis='columns')\n",
    "y = df_test_under['Churn']\n",
    "\n",
    "from sklearn.model_selection import train_test_split\n",
    "X_train, X_test, y_train, y_test = train_test_split(X,y,test_size=0.2,random_state=15,stratify=y)"
   ]
  },
  {
   "cell_type": "code",
   "execution_count": 56,
   "metadata": {},
   "outputs": [
    {
     "data": {
      "text/plain": [
       "Churn\n",
       "0    1495\n",
       "1    1495\n",
       "Name: count, dtype: int64"
      ]
     },
     "execution_count": 56,
     "metadata": {},
     "output_type": "execute_result"
    }
   ],
   "source": [
    "y_train.value_counts()"
   ]
  },
  {
   "cell_type": "code",
   "execution_count": 66,
   "metadata": {},
   "outputs": [],
   "source": [
    "X_train = np.array(X_train,dtype=np.float32) # Failed to convert a NumPy array to a Tensor \n",
    "X_test = np.array(X_test,dtype=np.float32) # Failed to convert a NumPy array to a Tensor "
   ]
  },
  {
   "cell_type": "code",
   "execution_count": 67,
   "metadata": {},
   "outputs": [
    {
     "name": "stdout",
     "output_type": "stream",
     "text": [
      "Epoch 1/100\n",
      "94/94 [==============================] - 1s 2ms/step - loss: 0.6302 - accuracy: 0.6485\n",
      "Epoch 2/100\n",
      "94/94 [==============================] - 0s 2ms/step - loss: 0.5150 - accuracy: 0.7532\n",
      "Epoch 3/100\n",
      "94/94 [==============================] - 0s 2ms/step - loss: 0.4942 - accuracy: 0.7612\n",
      "Epoch 4/100\n",
      "94/94 [==============================] - 0s 2ms/step - loss: 0.4878 - accuracy: 0.7682\n",
      "Epoch 5/100\n",
      "94/94 [==============================] - 0s 2ms/step - loss: 0.4839 - accuracy: 0.7712\n",
      "Epoch 6/100\n",
      "94/94 [==============================] - 0s 3ms/step - loss: 0.4827 - accuracy: 0.7692\n",
      "Epoch 7/100\n",
      "94/94 [==============================] - 0s 2ms/step - loss: 0.4837 - accuracy: 0.7702\n",
      "Epoch 8/100\n",
      "94/94 [==============================] - 0s 3ms/step - loss: 0.4788 - accuracy: 0.7726\n",
      "Epoch 9/100\n",
      "94/94 [==============================] - 0s 3ms/step - loss: 0.4772 - accuracy: 0.7716\n",
      "Epoch 10/100\n",
      "94/94 [==============================] - 0s 2ms/step - loss: 0.4767 - accuracy: 0.7699\n",
      "Epoch 11/100\n",
      "94/94 [==============================] - 0s 3ms/step - loss: 0.4765 - accuracy: 0.7712\n",
      "Epoch 12/100\n",
      "94/94 [==============================] - 0s 3ms/step - loss: 0.4737 - accuracy: 0.7739\n",
      "Epoch 13/100\n",
      "94/94 [==============================] - 0s 3ms/step - loss: 0.4725 - accuracy: 0.7729\n",
      "Epoch 14/100\n",
      "94/94 [==============================] - 0s 3ms/step - loss: 0.4733 - accuracy: 0.7742\n",
      "Epoch 15/100\n",
      "94/94 [==============================] - 0s 2ms/step - loss: 0.4711 - accuracy: 0.7749\n",
      "Epoch 16/100\n",
      "94/94 [==============================] - 0s 3ms/step - loss: 0.4692 - accuracy: 0.7739\n",
      "Epoch 17/100\n",
      "94/94 [==============================] - 0s 2ms/step - loss: 0.4702 - accuracy: 0.7749\n",
      "Epoch 18/100\n",
      "94/94 [==============================] - 0s 2ms/step - loss: 0.4670 - accuracy: 0.7742\n",
      "Epoch 19/100\n",
      "94/94 [==============================] - 0s 2ms/step - loss: 0.4671 - accuracy: 0.7766\n",
      "Epoch 20/100\n",
      "94/94 [==============================] - 0s 2ms/step - loss: 0.4647 - accuracy: 0.7763\n",
      "Epoch 21/100\n",
      "94/94 [==============================] - 0s 3ms/step - loss: 0.4640 - accuracy: 0.7763\n",
      "Epoch 22/100\n",
      "94/94 [==============================] - 0s 2ms/step - loss: 0.4618 - accuracy: 0.7806\n",
      "Epoch 23/100\n",
      "94/94 [==============================] - 0s 2ms/step - loss: 0.4622 - accuracy: 0.7809\n",
      "Epoch 24/100\n",
      "94/94 [==============================] - 0s 3ms/step - loss: 0.4609 - accuracy: 0.7816\n",
      "Epoch 25/100\n",
      "94/94 [==============================] - 0s 2ms/step - loss: 0.4591 - accuracy: 0.7753\n",
      "Epoch 26/100\n",
      "94/94 [==============================] - 0s 3ms/step - loss: 0.4574 - accuracy: 0.7836\n",
      "Epoch 27/100\n",
      "94/94 [==============================] - 0s 2ms/step - loss: 0.4571 - accuracy: 0.7799\n",
      "Epoch 28/100\n",
      "94/94 [==============================] - 0s 2ms/step - loss: 0.4550 - accuracy: 0.7866\n",
      "Epoch 29/100\n",
      "94/94 [==============================] - 0s 3ms/step - loss: 0.4542 - accuracy: 0.7893\n",
      "Epoch 30/100\n",
      "94/94 [==============================] - 0s 2ms/step - loss: 0.4538 - accuracy: 0.7836\n",
      "Epoch 31/100\n",
      "94/94 [==============================] - 0s 2ms/step - loss: 0.4526 - accuracy: 0.7860\n",
      "Epoch 32/100\n",
      "94/94 [==============================] - 0s 2ms/step - loss: 0.4511 - accuracy: 0.7873\n",
      "Epoch 33/100\n",
      "94/94 [==============================] - 0s 2ms/step - loss: 0.4498 - accuracy: 0.7900\n",
      "Epoch 34/100\n",
      "94/94 [==============================] - 0s 3ms/step - loss: 0.4498 - accuracy: 0.7900\n",
      "Epoch 35/100\n",
      "94/94 [==============================] - 0s 2ms/step - loss: 0.4466 - accuracy: 0.7926\n",
      "Epoch 36/100\n",
      "94/94 [==============================] - 0s 2ms/step - loss: 0.4469 - accuracy: 0.7913\n",
      "Epoch 37/100\n",
      "94/94 [==============================] - 0s 2ms/step - loss: 0.4448 - accuracy: 0.7926\n",
      "Epoch 38/100\n",
      "94/94 [==============================] - 0s 2ms/step - loss: 0.4437 - accuracy: 0.7943\n",
      "Epoch 39/100\n",
      "94/94 [==============================] - 0s 2ms/step - loss: 0.4429 - accuracy: 0.7940\n",
      "Epoch 40/100\n",
      "94/94 [==============================] - 0s 2ms/step - loss: 0.4411 - accuracy: 0.7953\n",
      "Epoch 41/100\n",
      "94/94 [==============================] - 0s 2ms/step - loss: 0.4426 - accuracy: 0.7943\n",
      "Epoch 42/100\n",
      "94/94 [==============================] - 0s 2ms/step - loss: 0.4376 - accuracy: 0.7967\n",
      "Epoch 43/100\n",
      "94/94 [==============================] - 0s 2ms/step - loss: 0.4380 - accuracy: 0.7930\n",
      "Epoch 44/100\n",
      "94/94 [==============================] - 0s 2ms/step - loss: 0.4361 - accuracy: 0.7993\n",
      "Epoch 45/100\n",
      "94/94 [==============================] - 0s 3ms/step - loss: 0.4358 - accuracy: 0.7946\n",
      "Epoch 46/100\n",
      "94/94 [==============================] - 0s 2ms/step - loss: 0.4363 - accuracy: 0.8040\n",
      "Epoch 47/100\n",
      "94/94 [==============================] - 0s 2ms/step - loss: 0.4353 - accuracy: 0.8010\n",
      "Epoch 48/100\n",
      "94/94 [==============================] - 0s 2ms/step - loss: 0.4344 - accuracy: 0.7990\n",
      "Epoch 49/100\n",
      "94/94 [==============================] - 0s 2ms/step - loss: 0.4324 - accuracy: 0.8020\n",
      "Epoch 50/100\n",
      "94/94 [==============================] - 0s 2ms/step - loss: 0.4318 - accuracy: 0.8030\n",
      "Epoch 51/100\n",
      "94/94 [==============================] - 0s 2ms/step - loss: 0.4307 - accuracy: 0.7987\n",
      "Epoch 52/100\n",
      "94/94 [==============================] - 0s 2ms/step - loss: 0.4300 - accuracy: 0.8040\n",
      "Epoch 53/100\n",
      "94/94 [==============================] - 0s 2ms/step - loss: 0.4309 - accuracy: 0.8007\n",
      "Epoch 54/100\n",
      "94/94 [==============================] - 0s 2ms/step - loss: 0.4284 - accuracy: 0.8003\n",
      "Epoch 55/100\n",
      "94/94 [==============================] - 0s 2ms/step - loss: 0.4271 - accuracy: 0.8057\n",
      "Epoch 56/100\n",
      "94/94 [==============================] - 0s 3ms/step - loss: 0.4255 - accuracy: 0.8070\n",
      "Epoch 57/100\n",
      "94/94 [==============================] - 0s 2ms/step - loss: 0.4248 - accuracy: 0.8070\n",
      "Epoch 58/100\n",
      "94/94 [==============================] - 0s 2ms/step - loss: 0.4254 - accuracy: 0.8010\n",
      "Epoch 59/100\n",
      "94/94 [==============================] - 0s 2ms/step - loss: 0.4240 - accuracy: 0.8094\n",
      "Epoch 60/100\n",
      "94/94 [==============================] - 0s 2ms/step - loss: 0.4213 - accuracy: 0.8084\n",
      "Epoch 61/100\n",
      "94/94 [==============================] - 0s 2ms/step - loss: 0.4219 - accuracy: 0.8054\n",
      "Epoch 62/100\n",
      "94/94 [==============================] - 0s 2ms/step - loss: 0.4204 - accuracy: 0.8043\n",
      "Epoch 63/100\n",
      "94/94 [==============================] - 0s 2ms/step - loss: 0.4197 - accuracy: 0.8067\n",
      "Epoch 64/100\n",
      "94/94 [==============================] - 0s 2ms/step - loss: 0.4196 - accuracy: 0.8104\n",
      "Epoch 65/100\n",
      "94/94 [==============================] - 0s 2ms/step - loss: 0.4178 - accuracy: 0.8057\n",
      "Epoch 66/100\n",
      "94/94 [==============================] - 0s 2ms/step - loss: 0.4184 - accuracy: 0.8107\n",
      "Epoch 67/100\n",
      "94/94 [==============================] - 0s 2ms/step - loss: 0.4174 - accuracy: 0.8080\n",
      "Epoch 68/100\n",
      "94/94 [==============================] - 0s 2ms/step - loss: 0.4163 - accuracy: 0.8100\n",
      "Epoch 69/100\n",
      "94/94 [==============================] - 0s 2ms/step - loss: 0.4156 - accuracy: 0.8077\n",
      "Epoch 70/100\n",
      "94/94 [==============================] - 0s 2ms/step - loss: 0.4153 - accuracy: 0.8094\n",
      "Epoch 71/100\n",
      "94/94 [==============================] - 0s 2ms/step - loss: 0.4147 - accuracy: 0.8130\n",
      "Epoch 72/100\n",
      "94/94 [==============================] - 0s 2ms/step - loss: 0.4141 - accuracy: 0.8040\n",
      "Epoch 73/100\n",
      "94/94 [==============================] - 0s 2ms/step - loss: 0.4136 - accuracy: 0.8097\n",
      "Epoch 74/100\n",
      "94/94 [==============================] - 0s 2ms/step - loss: 0.4125 - accuracy: 0.8127\n",
      "Epoch 75/100\n",
      "94/94 [==============================] - 0s 2ms/step - loss: 0.4111 - accuracy: 0.8090\n",
      "Epoch 76/100\n",
      "94/94 [==============================] - 0s 2ms/step - loss: 0.4105 - accuracy: 0.8127\n",
      "Epoch 77/100\n",
      "94/94 [==============================] - 0s 3ms/step - loss: 0.4115 - accuracy: 0.8084\n",
      "Epoch 78/100\n",
      "94/94 [==============================] - 0s 2ms/step - loss: 0.4088 - accuracy: 0.8114\n",
      "Epoch 79/100\n",
      "94/94 [==============================] - 0s 2ms/step - loss: 0.4097 - accuracy: 0.8084\n",
      "Epoch 80/100\n",
      "94/94 [==============================] - 0s 2ms/step - loss: 0.4099 - accuracy: 0.8107\n",
      "Epoch 81/100\n",
      "94/94 [==============================] - 0s 2ms/step - loss: 0.4077 - accuracy: 0.8090\n",
      "Epoch 82/100\n",
      "94/94 [==============================] - 0s 2ms/step - loss: 0.4066 - accuracy: 0.8144\n",
      "Epoch 83/100\n",
      "94/94 [==============================] - 0s 2ms/step - loss: 0.4065 - accuracy: 0.8177\n",
      "Epoch 84/100\n",
      "94/94 [==============================] - 0s 2ms/step - loss: 0.4064 - accuracy: 0.8127\n",
      "Epoch 85/100\n",
      "94/94 [==============================] - 0s 2ms/step - loss: 0.4066 - accuracy: 0.8110\n",
      "Epoch 86/100\n",
      "94/94 [==============================] - 0s 2ms/step - loss: 0.4030 - accuracy: 0.8114\n",
      "Epoch 87/100\n",
      "94/94 [==============================] - 0s 3ms/step - loss: 0.4041 - accuracy: 0.8110\n",
      "Epoch 88/100\n",
      "94/94 [==============================] - 0s 2ms/step - loss: 0.4049 - accuracy: 0.8114\n",
      "Epoch 89/100\n",
      "94/94 [==============================] - 0s 2ms/step - loss: 0.4026 - accuracy: 0.8124\n",
      "Epoch 90/100\n",
      "94/94 [==============================] - 0s 2ms/step - loss: 0.4006 - accuracy: 0.8124\n",
      "Epoch 91/100\n",
      "94/94 [==============================] - 0s 2ms/step - loss: 0.3998 - accuracy: 0.8164\n",
      "Epoch 92/100\n",
      "94/94 [==============================] - 0s 2ms/step - loss: 0.3992 - accuracy: 0.8171\n",
      "Epoch 93/100\n",
      "94/94 [==============================] - 0s 2ms/step - loss: 0.4005 - accuracy: 0.8167\n",
      "Epoch 94/100\n",
      "94/94 [==============================] - 0s 2ms/step - loss: 0.3991 - accuracy: 0.8147\n",
      "Epoch 95/100\n",
      "94/94 [==============================] - 0s 2ms/step - loss: 0.3986 - accuracy: 0.8164\n",
      "Epoch 96/100\n",
      "94/94 [==============================] - 0s 2ms/step - loss: 0.3999 - accuracy: 0.8177\n",
      "Epoch 97/100\n",
      "94/94 [==============================] - 0s 3ms/step - loss: 0.4000 - accuracy: 0.8174\n",
      "Epoch 98/100\n",
      "94/94 [==============================] - 0s 2ms/step - loss: 0.3977 - accuracy: 0.8171\n",
      "Epoch 99/100\n",
      "94/94 [==============================] - 0s 2ms/step - loss: 0.3973 - accuracy: 0.8144\n",
      "Epoch 100/100\n",
      "94/94 [==============================] - 0s 2ms/step - loss: 0.3950 - accuracy: 0.8201\n",
      "24/24 [==============================] - 0s 2ms/step - loss: 0.5627 - accuracy: 0.7259\n",
      "[0.5626953840255737, 0.7259358167648315]\n",
      "24/24 [==============================] - 0s 2ms/step\n",
      "Classification Report: \n",
      "               precision    recall  f1-score   support\n",
      "\n",
      "           0       0.72      0.75      0.73       374\n",
      "           1       0.74      0.71      0.72       374\n",
      "\n",
      "    accuracy                           0.73       748\n",
      "   macro avg       0.73      0.73      0.73       748\n",
      "weighted avg       0.73      0.73      0.73       748\n",
      "\n"
     ]
    }
   ],
   "source": [
    "y_preds = ANN(X_train, y_train, X_test, y_test, 'binary_crossentropy', -1)"
   ]
  },
  {
   "cell_type": "markdown",
   "metadata": {},
   "source": [
    "# Method 2: Oversampling"
   ]
  },
  {
   "cell_type": "code",
   "execution_count": 68,
   "metadata": {},
   "outputs": [
    {
     "data": {
      "text/plain": [
       "(5163, 1869)"
      ]
     },
     "execution_count": 68,
     "metadata": {},
     "output_type": "execute_result"
    }
   ],
   "source": [
    "count_class_0, count_class_1"
   ]
  },
  {
   "cell_type": "code",
   "execution_count": 71,
   "metadata": {},
   "outputs": [
    {
     "data": {
      "text/plain": [
       "(5163, 27)"
      ]
     },
     "execution_count": 71,
     "metadata": {},
     "output_type": "execute_result"
    }
   ],
   "source": [
    "df_class_1.sample(count_class_0,replace=True).shape # Randomly copied samples from class 1 and created number of samples as class 0 has"
   ]
  },
  {
   "cell_type": "code",
   "execution_count": 74,
   "metadata": {},
   "outputs": [
    {
     "name": "stdout",
     "output_type": "stream",
     "text": [
      "Random over-sampling:\n",
      "Churn\n",
      "0    5163\n",
      "1    5163\n",
      "Name: count, dtype: int64\n"
     ]
    }
   ],
   "source": [
    "df_class_1_over = df_class_1.sample(count_class_0,replace=True)\n",
    "df_test_over = pd.concat([df_class_0,df_class_1_over],axis=0)\n",
    "print(\"Random over-sampling:\")\n",
    "print(df_test_over.Churn.value_counts())"
   ]
  },
  {
   "cell_type": "code",
   "execution_count": 77,
   "metadata": {},
   "outputs": [],
   "source": [
    "X = df_test_over.drop('Churn',axis='columns')\n",
    "y = df_test_over['Churn']\n",
    "\n",
    "X_train, X_test, y_train, y_test = train_test_split(X,y,test_size=0.2,random_state=15,stratify=y)"
   ]
  },
  {
   "cell_type": "code",
   "execution_count": 78,
   "metadata": {},
   "outputs": [
    {
     "data": {
      "text/plain": [
       "Churn\n",
       "1    4130\n",
       "0    4130\n",
       "Name: count, dtype: int64"
      ]
     },
     "execution_count": 78,
     "metadata": {},
     "output_type": "execute_result"
    }
   ],
   "source": [
    "y_train.value_counts()"
   ]
  },
  {
   "cell_type": "code",
   "execution_count": 79,
   "metadata": {},
   "outputs": [
    {
     "data": {
      "text/plain": [
       "Churn\n",
       "1    1033\n",
       "0    1033\n",
       "Name: count, dtype: int64"
      ]
     },
     "execution_count": 79,
     "metadata": {},
     "output_type": "execute_result"
    }
   ],
   "source": [
    "y_test.value_counts()"
   ]
  },
  {
   "cell_type": "code",
   "execution_count": 81,
   "metadata": {},
   "outputs": [],
   "source": [
    "X_train = np.array(X_train,dtype=np.float32)\n",
    "X_test = np.array(X_test,dtype=np.float32)"
   ]
  },
  {
   "cell_type": "code",
   "execution_count": 82,
   "metadata": {},
   "outputs": [
    {
     "name": "stdout",
     "output_type": "stream",
     "text": [
      "Epoch 1/100\n",
      "259/259 [==============================] - 2s 4ms/step - loss: 0.5312 - accuracy: 0.7420\n",
      "Epoch 2/100\n",
      "259/259 [==============================] - 1s 4ms/step - loss: 0.4894 - accuracy: 0.7644\n",
      "Epoch 3/100\n",
      "259/259 [==============================] - 1s 3ms/step - loss: 0.4823 - accuracy: 0.7656\n",
      "Epoch 4/100\n",
      "259/259 [==============================] - 1s 4ms/step - loss: 0.4770 - accuracy: 0.7690\n",
      "Epoch 5/100\n",
      "259/259 [==============================] - 1s 3ms/step - loss: 0.4727 - accuracy: 0.7720\n",
      "Epoch 6/100\n",
      "259/259 [==============================] - 1s 3ms/step - loss: 0.4686 - accuracy: 0.7723\n",
      "Epoch 7/100\n",
      "259/259 [==============================] - 1s 3ms/step - loss: 0.4656 - accuracy: 0.7771\n",
      "Epoch 8/100\n",
      "259/259 [==============================] - 1s 2ms/step - loss: 0.4631 - accuracy: 0.7775\n",
      "Epoch 9/100\n",
      "259/259 [==============================] - 1s 3ms/step - loss: 0.4599 - accuracy: 0.7778\n",
      "Epoch 10/100\n",
      "259/259 [==============================] - 1s 3ms/step - loss: 0.4587 - accuracy: 0.7794\n",
      "Epoch 11/100\n",
      "259/259 [==============================] - 1s 2ms/step - loss: 0.4562 - accuracy: 0.7839\n",
      "Epoch 12/100\n",
      "259/259 [==============================] - 1s 3ms/step - loss: 0.4532 - accuracy: 0.7826\n",
      "Epoch 13/100\n",
      "259/259 [==============================] - 1s 2ms/step - loss: 0.4523 - accuracy: 0.7860\n",
      "Epoch 14/100\n",
      "259/259 [==============================] - 1s 3ms/step - loss: 0.4487 - accuracy: 0.7881\n",
      "Epoch 15/100\n",
      "259/259 [==============================] - 1s 3ms/step - loss: 0.4468 - accuracy: 0.7896\n",
      "Epoch 16/100\n",
      "259/259 [==============================] - 1s 3ms/step - loss: 0.4449 - accuracy: 0.7891\n",
      "Epoch 17/100\n",
      "259/259 [==============================] - 1s 3ms/step - loss: 0.4433 - accuracy: 0.7912\n",
      "Epoch 18/100\n",
      "259/259 [==============================] - 1s 3ms/step - loss: 0.4422 - accuracy: 0.7914\n",
      "Epoch 19/100\n",
      "259/259 [==============================] - 1s 3ms/step - loss: 0.4394 - accuracy: 0.7930\n",
      "Epoch 20/100\n",
      "259/259 [==============================] - 1s 2ms/step - loss: 0.4381 - accuracy: 0.7932\n",
      "Epoch 21/100\n",
      "259/259 [==============================] - 1s 3ms/step - loss: 0.4369 - accuracy: 0.7962\n",
      "Epoch 22/100\n",
      "259/259 [==============================] - 1s 4ms/step - loss: 0.4345 - accuracy: 0.7935\n",
      "Epoch 23/100\n",
      "259/259 [==============================] - 1s 3ms/step - loss: 0.4333 - accuracy: 0.7950\n",
      "Epoch 24/100\n",
      "259/259 [==============================] - 1s 3ms/step - loss: 0.4326 - accuracy: 0.7975\n",
      "Epoch 25/100\n",
      "259/259 [==============================] - 1s 2ms/step - loss: 0.4312 - accuracy: 0.7953\n",
      "Epoch 26/100\n",
      "259/259 [==============================] - 1s 3ms/step - loss: 0.4302 - accuracy: 0.7962\n",
      "Epoch 27/100\n",
      "259/259 [==============================] - 1s 3ms/step - loss: 0.4275 - accuracy: 0.7994\n",
      "Epoch 28/100\n",
      "259/259 [==============================] - 1s 2ms/step - loss: 0.4266 - accuracy: 0.8005\n",
      "Epoch 29/100\n",
      "259/259 [==============================] - 1s 3ms/step - loss: 0.4262 - accuracy: 0.8005\n",
      "Epoch 30/100\n",
      "259/259 [==============================] - 1s 3ms/step - loss: 0.4243 - accuracy: 0.7979\n",
      "Epoch 31/100\n",
      "259/259 [==============================] - 1s 2ms/step - loss: 0.4230 - accuracy: 0.8013\n",
      "Epoch 32/100\n",
      "259/259 [==============================] - 1s 3ms/step - loss: 0.4219 - accuracy: 0.8018\n",
      "Epoch 33/100\n",
      "259/259 [==============================] - 1s 3ms/step - loss: 0.4204 - accuracy: 0.8051\n",
      "Epoch 34/100\n",
      "259/259 [==============================] - 1s 3ms/step - loss: 0.4195 - accuracy: 0.8039\n",
      "Epoch 35/100\n",
      "259/259 [==============================] - 1s 3ms/step - loss: 0.4177 - accuracy: 0.8061\n",
      "Epoch 36/100\n",
      "259/259 [==============================] - 1s 3ms/step - loss: 0.4166 - accuracy: 0.8062\n",
      "Epoch 37/100\n",
      "259/259 [==============================] - 1s 3ms/step - loss: 0.4158 - accuracy: 0.8068\n",
      "Epoch 38/100\n",
      "259/259 [==============================] - 1s 3ms/step - loss: 0.4139 - accuracy: 0.8081\n",
      "Epoch 39/100\n",
      "259/259 [==============================] - 1s 3ms/step - loss: 0.4134 - accuracy: 0.8058\n",
      "Epoch 40/100\n",
      "259/259 [==============================] - 1s 2ms/step - loss: 0.4121 - accuracy: 0.8076\n",
      "Epoch 41/100\n",
      "259/259 [==============================] - 1s 2ms/step - loss: 0.4114 - accuracy: 0.8107\n",
      "Epoch 42/100\n",
      "259/259 [==============================] - 1s 3ms/step - loss: 0.4099 - accuracy: 0.8100\n",
      "Epoch 43/100\n",
      "259/259 [==============================] - 1s 3ms/step - loss: 0.4092 - accuracy: 0.8126\n",
      "Epoch 44/100\n",
      "259/259 [==============================] - 1s 3ms/step - loss: 0.4089 - accuracy: 0.8128\n",
      "Epoch 45/100\n",
      "259/259 [==============================] - 1s 3ms/step - loss: 0.4088 - accuracy: 0.8121\n",
      "Epoch 46/100\n",
      "259/259 [==============================] - 1s 3ms/step - loss: 0.4067 - accuracy: 0.8125\n",
      "Epoch 47/100\n",
      "259/259 [==============================] - 1s 3ms/step - loss: 0.4049 - accuracy: 0.8140\n",
      "Epoch 48/100\n",
      "259/259 [==============================] - 1s 2ms/step - loss: 0.4044 - accuracy: 0.8153\n",
      "Epoch 49/100\n",
      "259/259 [==============================] - 1s 3ms/step - loss: 0.4056 - accuracy: 0.8154\n",
      "Epoch 50/100\n",
      "259/259 [==============================] - 1s 3ms/step - loss: 0.4034 - accuracy: 0.8119\n",
      "Epoch 51/100\n",
      "259/259 [==============================] - 1s 3ms/step - loss: 0.4033 - accuracy: 0.8168\n",
      "Epoch 52/100\n",
      "259/259 [==============================] - 1s 3ms/step - loss: 0.4022 - accuracy: 0.8163\n",
      "Epoch 53/100\n",
      "259/259 [==============================] - 1s 3ms/step - loss: 0.4004 - accuracy: 0.8190\n",
      "Epoch 54/100\n",
      "259/259 [==============================] - 1s 4ms/step - loss: 0.3994 - accuracy: 0.8196\n",
      "Epoch 55/100\n",
      "259/259 [==============================] - 1s 3ms/step - loss: 0.3989 - accuracy: 0.8192\n",
      "Epoch 56/100\n",
      "259/259 [==============================] - 1s 3ms/step - loss: 0.3982 - accuracy: 0.8212\n",
      "Epoch 57/100\n",
      "259/259 [==============================] - 1s 2ms/step - loss: 0.3980 - accuracy: 0.8185\n",
      "Epoch 58/100\n",
      "259/259 [==============================] - 1s 3ms/step - loss: 0.3957 - accuracy: 0.8217\n",
      "Epoch 59/100\n",
      "259/259 [==============================] - 1s 3ms/step - loss: 0.3952 - accuracy: 0.8225\n",
      "Epoch 60/100\n",
      "259/259 [==============================] - 1s 3ms/step - loss: 0.3951 - accuracy: 0.8190\n",
      "Epoch 61/100\n",
      "259/259 [==============================] - 1s 3ms/step - loss: 0.3939 - accuracy: 0.8213\n",
      "Epoch 62/100\n",
      "259/259 [==============================] - 1s 3ms/step - loss: 0.3933 - accuracy: 0.8224\n",
      "Epoch 63/100\n",
      "259/259 [==============================] - 1s 3ms/step - loss: 0.3925 - accuracy: 0.8201\n",
      "Epoch 64/100\n",
      "259/259 [==============================] - 1s 2ms/step - loss: 0.3916 - accuracy: 0.8229\n",
      "Epoch 65/100\n",
      "259/259 [==============================] - 1s 2ms/step - loss: 0.3929 - accuracy: 0.8236\n",
      "Epoch 66/100\n",
      "259/259 [==============================] - 1s 3ms/step - loss: 0.3910 - accuracy: 0.8205\n",
      "Epoch 67/100\n",
      "259/259 [==============================] - 1s 3ms/step - loss: 0.3902 - accuracy: 0.8242\n",
      "Epoch 68/100\n",
      "259/259 [==============================] - 1s 3ms/step - loss: 0.3885 - accuracy: 0.8222\n",
      "Epoch 69/100\n",
      "259/259 [==============================] - 1s 3ms/step - loss: 0.3880 - accuracy: 0.8232\n",
      "Epoch 70/100\n",
      "259/259 [==============================] - 1s 3ms/step - loss: 0.3875 - accuracy: 0.8275\n",
      "Epoch 71/100\n",
      "259/259 [==============================] - 1s 3ms/step - loss: 0.3877 - accuracy: 0.8270\n",
      "Epoch 72/100\n",
      "259/259 [==============================] - 1s 3ms/step - loss: 0.3872 - accuracy: 0.8246\n",
      "Epoch 73/100\n",
      "259/259 [==============================] - 1s 3ms/step - loss: 0.3867 - accuracy: 0.8253\n",
      "Epoch 74/100\n",
      "259/259 [==============================] - 1s 3ms/step - loss: 0.3859 - accuracy: 0.8262\n",
      "Epoch 75/100\n",
      "259/259 [==============================] - 1s 3ms/step - loss: 0.3855 - accuracy: 0.8280\n",
      "Epoch 76/100\n",
      "259/259 [==============================] - 1s 3ms/step - loss: 0.3848 - accuracy: 0.8282\n",
      "Epoch 77/100\n",
      "259/259 [==============================] - 1s 2ms/step - loss: 0.3835 - accuracy: 0.8312\n",
      "Epoch 78/100\n",
      "259/259 [==============================] - 1s 3ms/step - loss: 0.3828 - accuracy: 0.8281\n",
      "Epoch 79/100\n",
      "259/259 [==============================] - 1s 2ms/step - loss: 0.3822 - accuracy: 0.8293\n",
      "Epoch 80/100\n",
      "259/259 [==============================] - 1s 3ms/step - loss: 0.3831 - accuracy: 0.8268\n",
      "Epoch 81/100\n",
      "259/259 [==============================] - 1s 4ms/step - loss: 0.3828 - accuracy: 0.8299\n",
      "Epoch 82/100\n",
      "259/259 [==============================] - 1s 3ms/step - loss: 0.3801 - accuracy: 0.8297\n",
      "Epoch 83/100\n",
      "259/259 [==============================] - 1s 4ms/step - loss: 0.3812 - accuracy: 0.8312\n",
      "Epoch 84/100\n",
      "259/259 [==============================] - 1s 3ms/step - loss: 0.3804 - accuracy: 0.8303\n",
      "Epoch 85/100\n",
      "259/259 [==============================] - 1s 3ms/step - loss: 0.3778 - accuracy: 0.8300\n",
      "Epoch 86/100\n",
      "259/259 [==============================] - 1s 2ms/step - loss: 0.3794 - accuracy: 0.8326\n",
      "Epoch 87/100\n",
      "259/259 [==============================] - 1s 2ms/step - loss: 0.3776 - accuracy: 0.8311\n",
      "Epoch 88/100\n",
      "259/259 [==============================] - 1s 4ms/step - loss: 0.3776 - accuracy: 0.8328\n",
      "Epoch 89/100\n",
      "259/259 [==============================] - 1s 3ms/step - loss: 0.3760 - accuracy: 0.8317\n",
      "Epoch 90/100\n",
      "259/259 [==============================] - 1s 3ms/step - loss: 0.3767 - accuracy: 0.8352\n",
      "Epoch 91/100\n",
      "259/259 [==============================] - 1s 3ms/step - loss: 0.3765 - accuracy: 0.8311\n",
      "Epoch 92/100\n",
      "259/259 [==============================] - 1s 3ms/step - loss: 0.3755 - accuracy: 0.8351\n",
      "Epoch 93/100\n",
      "259/259 [==============================] - 1s 3ms/step - loss: 0.3743 - accuracy: 0.8310\n",
      "Epoch 94/100\n",
      "259/259 [==============================] - 1s 3ms/step - loss: 0.3737 - accuracy: 0.8357\n",
      "Epoch 95/100\n",
      "259/259 [==============================] - 1s 5ms/step - loss: 0.3732 - accuracy: 0.8347\n",
      "Epoch 96/100\n",
      "259/259 [==============================] - 1s 4ms/step - loss: 0.3729 - accuracy: 0.8361\n",
      "Epoch 97/100\n",
      "259/259 [==============================] - 2s 7ms/step - loss: 0.3732 - accuracy: 0.8327\n",
      "Epoch 98/100\n",
      "259/259 [==============================] - 1s 4ms/step - loss: 0.3722 - accuracy: 0.8338\n",
      "Epoch 99/100\n",
      "259/259 [==============================] - 1s 3ms/step - loss: 0.3744 - accuracy: 0.8339\n",
      "Epoch 100/100\n",
      "259/259 [==============================] - 1s 5ms/step - loss: 0.3751 - accuracy: 0.8366\n",
      "65/65 [==============================] - 0s 3ms/step - loss: 0.4811 - accuracy: 0.7924\n",
      "[0.48110681772232056, 0.7923523783683777]\n",
      "65/65 [==============================] - 0s 4ms/step\n",
      "Classification Report: \n",
      "               precision    recall  f1-score   support\n",
      "\n",
      "           0       0.83      0.74      0.78      1033\n",
      "           1       0.76      0.85      0.80      1033\n",
      "\n",
      "    accuracy                           0.79      2066\n",
      "   macro avg       0.80      0.79      0.79      2066\n",
      "weighted avg       0.80      0.79      0.79      2066\n",
      "\n"
     ]
    }
   ],
   "source": [
    "y_preds = ANN(X_train, y_train, X_test, y_test, 'binary_crossentropy', -1)"
   ]
  },
  {
   "cell_type": "markdown",
   "metadata": {},
   "source": [
    "# Method 3: SMOTE"
   ]
  },
  {
   "cell_type": "code",
   "execution_count": 83,
   "metadata": {},
   "outputs": [],
   "source": [
    "X = df2.drop('Churn',axis='columns')\n",
    "y = df2['Churn']"
   ]
  },
  {
   "cell_type": "code",
   "execution_count": 84,
   "metadata": {},
   "outputs": [],
   "source": [
    "from imblearn.over_sampling import SMOTE"
   ]
  },
  {
   "cell_type": "code",
   "execution_count": 86,
   "metadata": {},
   "outputs": [
    {
     "data": {
      "text/plain": [
       "Churn\n",
       "0    5163\n",
       "1    1869\n",
       "Name: count, dtype: int64"
      ]
     },
     "execution_count": 86,
     "metadata": {},
     "output_type": "execute_result"
    }
   ],
   "source": [
    "y.value_counts()"
   ]
  },
  {
   "cell_type": "code",
   "execution_count": 89,
   "metadata": {},
   "outputs": [
    {
     "data": {
      "text/plain": [
       "Churn\n",
       "0    5163\n",
       "1    5163\n",
       "Name: count, dtype: int64"
      ]
     },
     "execution_count": 89,
     "metadata": {},
     "output_type": "execute_result"
    }
   ],
   "source": [
    "smote = SMOTE(sampling_strategy='minority')\n",
    "X_sm, y_sm = smote.fit_resample(X,y)\n",
    "\n",
    "y_sm.value_counts()"
   ]
  },
  {
   "cell_type": "code",
   "execution_count": 93,
   "metadata": {},
   "outputs": [],
   "source": [
    "X_train, X_test, y_train, y_test = train_test_split(X_sm,y_sm,test_size=0.2,stratify=y_sm)"
   ]
  },
  {
   "cell_type": "code",
   "execution_count": 94,
   "metadata": {},
   "outputs": [
    {
     "data": {
      "text/plain": [
       "Churn\n",
       "0    1033\n",
       "1    1033\n",
       "Name: count, dtype: int64"
      ]
     },
     "execution_count": 94,
     "metadata": {},
     "output_type": "execute_result"
    }
   ],
   "source": [
    "y_test.value_counts()"
   ]
  },
  {
   "cell_type": "code",
   "execution_count": 95,
   "metadata": {},
   "outputs": [
    {
     "data": {
      "text/plain": [
       "Churn\n",
       "0    4130\n",
       "1    4130\n",
       "Name: count, dtype: int64"
      ]
     },
     "execution_count": 95,
     "metadata": {},
     "output_type": "execute_result"
    }
   ],
   "source": [
    "y_train.value_counts()"
   ]
  },
  {
   "cell_type": "code",
   "execution_count": 97,
   "metadata": {},
   "outputs": [],
   "source": [
    "X_train = np.array(X_train,dtype=np.float32)\n",
    "X_test = np.array(X_test,dtype=np.float32)"
   ]
  },
  {
   "cell_type": "code",
   "execution_count": 98,
   "metadata": {},
   "outputs": [
    {
     "name": "stdout",
     "output_type": "stream",
     "text": [
      "Epoch 1/100\n",
      "259/259 [==============================] - 2s 4ms/step - loss: 0.5307 - accuracy: 0.7381\n",
      "Epoch 2/100\n",
      "259/259 [==============================] - 1s 2ms/step - loss: 0.4685 - accuracy: 0.7795\n",
      "Epoch 3/100\n",
      "259/259 [==============================] - 1s 4ms/step - loss: 0.4589 - accuracy: 0.7837\n",
      "Epoch 4/100\n",
      "259/259 [==============================] - 1s 2ms/step - loss: 0.4535 - accuracy: 0.7868\n",
      "Epoch 5/100\n",
      "259/259 [==============================] - 1s 2ms/step - loss: 0.4490 - accuracy: 0.7921\n",
      "Epoch 6/100\n",
      "259/259 [==============================] - 1s 2ms/step - loss: 0.4434 - accuracy: 0.7919\n",
      "Epoch 7/100\n",
      "259/259 [==============================] - 1s 4ms/step - loss: 0.4394 - accuracy: 0.7927\n",
      "Epoch 8/100\n",
      "259/259 [==============================] - 1s 3ms/step - loss: 0.4357 - accuracy: 0.7950\n",
      "Epoch 9/100\n",
      "259/259 [==============================] - 1s 2ms/step - loss: 0.4333 - accuracy: 0.7955\n",
      "Epoch 10/100\n",
      "259/259 [==============================] - 1s 3ms/step - loss: 0.4291 - accuracy: 0.8007\n",
      "Epoch 11/100\n",
      "259/259 [==============================] - 1s 3ms/step - loss: 0.4270 - accuracy: 0.8022\n",
      "Epoch 12/100\n",
      "259/259 [==============================] - 1s 2ms/step - loss: 0.4230 - accuracy: 0.8036\n",
      "Epoch 13/100\n",
      "259/259 [==============================] - 1s 3ms/step - loss: 0.4207 - accuracy: 0.8052\n",
      "Epoch 14/100\n",
      "259/259 [==============================] - 1s 2ms/step - loss: 0.4184 - accuracy: 0.8063\n",
      "Epoch 15/100\n",
      "259/259 [==============================] - 1s 3ms/step - loss: 0.4166 - accuracy: 0.8114\n",
      "Epoch 16/100\n",
      "259/259 [==============================] - 1s 3ms/step - loss: 0.4144 - accuracy: 0.8076\n",
      "Epoch 17/100\n",
      "259/259 [==============================] - 1s 2ms/step - loss: 0.4112 - accuracy: 0.8099\n",
      "Epoch 18/100\n",
      "259/259 [==============================] - 1s 3ms/step - loss: 0.4103 - accuracy: 0.8122\n",
      "Epoch 19/100\n",
      "259/259 [==============================] - 1s 3ms/step - loss: 0.4092 - accuracy: 0.8121\n",
      "Epoch 20/100\n",
      "259/259 [==============================] - 1s 3ms/step - loss: 0.4070 - accuracy: 0.8134\n",
      "Epoch 21/100\n",
      "259/259 [==============================] - 1s 2ms/step - loss: 0.4034 - accuracy: 0.8165\n",
      "Epoch 22/100\n",
      "259/259 [==============================] - 1s 2ms/step - loss: 0.4043 - accuracy: 0.8156\n",
      "Epoch 23/100\n",
      "259/259 [==============================] - 1s 3ms/step - loss: 0.4006 - accuracy: 0.8155\n",
      "Epoch 24/100\n",
      "259/259 [==============================] - 1s 3ms/step - loss: 0.3988 - accuracy: 0.8172\n",
      "Epoch 25/100\n",
      "259/259 [==============================] - 1s 3ms/step - loss: 0.3986 - accuracy: 0.8153\n",
      "Epoch 26/100\n",
      "259/259 [==============================] - 1s 2ms/step - loss: 0.3956 - accuracy: 0.8200\n",
      "Epoch 27/100\n",
      "259/259 [==============================] - 1s 2ms/step - loss: 0.3937 - accuracy: 0.8219\n",
      "Epoch 28/100\n",
      "259/259 [==============================] - 1s 3ms/step - loss: 0.3935 - accuracy: 0.8225\n",
      "Epoch 29/100\n",
      "259/259 [==============================] - 1s 3ms/step - loss: 0.3915 - accuracy: 0.8208\n",
      "Epoch 30/100\n",
      "259/259 [==============================] - 1s 3ms/step - loss: 0.3903 - accuracy: 0.8223\n",
      "Epoch 31/100\n",
      "259/259 [==============================] - 1s 2ms/step - loss: 0.3888 - accuracy: 0.8260\n",
      "Epoch 32/100\n",
      "259/259 [==============================] - 1s 3ms/step - loss: 0.3870 - accuracy: 0.8211\n",
      "Epoch 33/100\n",
      "259/259 [==============================] - 1s 4ms/step - loss: 0.3857 - accuracy: 0.8260\n",
      "Epoch 34/100\n",
      "259/259 [==============================] - 1s 3ms/step - loss: 0.3870 - accuracy: 0.8269\n",
      "Epoch 35/100\n",
      "259/259 [==============================] - 1s 3ms/step - loss: 0.3823 - accuracy: 0.8297\n",
      "Epoch 36/100\n",
      "259/259 [==============================] - 1s 2ms/step - loss: 0.3808 - accuracy: 0.8289\n",
      "Epoch 37/100\n",
      "259/259 [==============================] - 1s 3ms/step - loss: 0.3814 - accuracy: 0.8291\n",
      "Epoch 38/100\n",
      "259/259 [==============================] - 1s 3ms/step - loss: 0.3808 - accuracy: 0.8264\n",
      "Epoch 39/100\n",
      "259/259 [==============================] - 1s 2ms/step - loss: 0.3800 - accuracy: 0.8283\n",
      "Epoch 40/100\n",
      "259/259 [==============================] - 1s 3ms/step - loss: 0.3757 - accuracy: 0.8316\n",
      "Epoch 41/100\n",
      "259/259 [==============================] - 1s 3ms/step - loss: 0.3762 - accuracy: 0.8311\n",
      "Epoch 42/100\n",
      "259/259 [==============================] - 1s 3ms/step - loss: 0.3746 - accuracy: 0.8320\n",
      "Epoch 43/100\n",
      "259/259 [==============================] - 1s 3ms/step - loss: 0.3747 - accuracy: 0.8311\n",
      "Epoch 44/100\n",
      "259/259 [==============================] - 1s 3ms/step - loss: 0.3739 - accuracy: 0.8328\n",
      "Epoch 45/100\n",
      "259/259 [==============================] - 1s 3ms/step - loss: 0.3723 - accuracy: 0.8333\n",
      "Epoch 46/100\n",
      "259/259 [==============================] - 1s 3ms/step - loss: 0.3708 - accuracy: 0.8340\n",
      "Epoch 47/100\n",
      "259/259 [==============================] - 1s 4ms/step - loss: 0.3720 - accuracy: 0.8318\n",
      "Epoch 48/100\n",
      "259/259 [==============================] - 1s 3ms/step - loss: 0.3708 - accuracy: 0.8317\n",
      "Epoch 49/100\n",
      "259/259 [==============================] - 1s 3ms/step - loss: 0.3687 - accuracy: 0.8347\n",
      "Epoch 50/100\n",
      "259/259 [==============================] - 1s 3ms/step - loss: 0.3680 - accuracy: 0.8339\n",
      "Epoch 51/100\n",
      "259/259 [==============================] - 1s 2ms/step - loss: 0.3693 - accuracy: 0.8366\n",
      "Epoch 52/100\n",
      "259/259 [==============================] - 1s 3ms/step - loss: 0.3657 - accuracy: 0.8363\n",
      "Epoch 53/100\n",
      "259/259 [==============================] - 1s 3ms/step - loss: 0.3660 - accuracy: 0.8369\n",
      "Epoch 54/100\n",
      "259/259 [==============================] - 1s 3ms/step - loss: 0.3660 - accuracy: 0.8356\n",
      "Epoch 55/100\n",
      "259/259 [==============================] - 1s 3ms/step - loss: 0.3640 - accuracy: 0.8386\n",
      "Epoch 56/100\n",
      "259/259 [==============================] - 1s 3ms/step - loss: 0.3647 - accuracy: 0.8355\n",
      "Epoch 57/100\n",
      "259/259 [==============================] - 1s 3ms/step - loss: 0.3639 - accuracy: 0.8380\n",
      "Epoch 58/100\n",
      "259/259 [==============================] - 1s 3ms/step - loss: 0.3630 - accuracy: 0.8343\n",
      "Epoch 59/100\n",
      "259/259 [==============================] - 1s 3ms/step - loss: 0.3627 - accuracy: 0.8402\n",
      "Epoch 60/100\n",
      "259/259 [==============================] - 1s 2ms/step - loss: 0.3596 - accuracy: 0.8385\n",
      "Epoch 61/100\n",
      "259/259 [==============================] - 1s 4ms/step - loss: 0.3602 - accuracy: 0.8400\n",
      "Epoch 62/100\n",
      "259/259 [==============================] - 1s 3ms/step - loss: 0.3589 - accuracy: 0.8395\n",
      "Epoch 63/100\n",
      "259/259 [==============================] - 1s 4ms/step - loss: 0.3617 - accuracy: 0.8389\n",
      "Epoch 64/100\n",
      "259/259 [==============================] - 1s 3ms/step - loss: 0.3575 - accuracy: 0.8387\n",
      "Epoch 65/100\n",
      "259/259 [==============================] - 1s 3ms/step - loss: 0.3587 - accuracy: 0.8390\n",
      "Epoch 66/100\n",
      "259/259 [==============================] - 1s 2ms/step - loss: 0.3585 - accuracy: 0.8402\n",
      "Epoch 67/100\n",
      "259/259 [==============================] - 1s 5ms/step - loss: 0.3572 - accuracy: 0.8432\n",
      "Epoch 68/100\n",
      "259/259 [==============================] - 1s 3ms/step - loss: 0.3568 - accuracy: 0.8414\n",
      "Epoch 69/100\n",
      "259/259 [==============================] - 1s 3ms/step - loss: 0.3570 - accuracy: 0.8393\n",
      "Epoch 70/100\n",
      "259/259 [==============================] - 1s 3ms/step - loss: 0.3545 - accuracy: 0.8430\n",
      "Epoch 71/100\n",
      "259/259 [==============================] - 1s 3ms/step - loss: 0.3544 - accuracy: 0.8419\n",
      "Epoch 72/100\n",
      "259/259 [==============================] - 1s 3ms/step - loss: 0.3560 - accuracy: 0.8416\n",
      "Epoch 73/100\n",
      "259/259 [==============================] - 1s 3ms/step - loss: 0.3536 - accuracy: 0.8404\n",
      "Epoch 74/100\n",
      "259/259 [==============================] - 1s 3ms/step - loss: 0.3544 - accuracy: 0.8420\n",
      "Epoch 75/100\n",
      "259/259 [==============================] - 1s 4ms/step - loss: 0.3543 - accuracy: 0.8426\n",
      "Epoch 76/100\n",
      "259/259 [==============================] - 1s 3ms/step - loss: 0.3523 - accuracy: 0.8435\n",
      "Epoch 77/100\n",
      "259/259 [==============================] - 1s 3ms/step - loss: 0.3526 - accuracy: 0.8452\n",
      "Epoch 78/100\n",
      "259/259 [==============================] - 1s 3ms/step - loss: 0.3518 - accuracy: 0.8415\n",
      "Epoch 79/100\n",
      "259/259 [==============================] - 1s 3ms/step - loss: 0.3529 - accuracy: 0.8393\n",
      "Epoch 80/100\n",
      "259/259 [==============================] - 1s 4ms/step - loss: 0.3500 - accuracy: 0.8462\n",
      "Epoch 81/100\n",
      "259/259 [==============================] - 1s 2ms/step - loss: 0.3501 - accuracy: 0.8443\n",
      "Epoch 82/100\n",
      "259/259 [==============================] - 1s 2ms/step - loss: 0.3478 - accuracy: 0.8449\n",
      "Epoch 83/100\n",
      "259/259 [==============================] - 1s 3ms/step - loss: 0.3511 - accuracy: 0.8460\n",
      "Epoch 84/100\n",
      "259/259 [==============================] - 1s 2ms/step - loss: 0.3491 - accuracy: 0.8459\n",
      "Epoch 85/100\n",
      "259/259 [==============================] - 1s 2ms/step - loss: 0.3473 - accuracy: 0.8442\n",
      "Epoch 86/100\n",
      "259/259 [==============================] - 1s 3ms/step - loss: 0.3463 - accuracy: 0.8442\n",
      "Epoch 87/100\n",
      "259/259 [==============================] - 1s 3ms/step - loss: 0.3489 - accuracy: 0.8459\n",
      "Epoch 88/100\n",
      "259/259 [==============================] - 1s 3ms/step - loss: 0.3472 - accuracy: 0.8458\n",
      "Epoch 89/100\n",
      "259/259 [==============================] - 1s 3ms/step - loss: 0.3471 - accuracy: 0.8454\n",
      "Epoch 90/100\n",
      "259/259 [==============================] - 1s 3ms/step - loss: 0.3460 - accuracy: 0.8475\n",
      "Epoch 91/100\n",
      "259/259 [==============================] - 1s 2ms/step - loss: 0.3454 - accuracy: 0.8453\n",
      "Epoch 92/100\n",
      "259/259 [==============================] - 1s 2ms/step - loss: 0.3487 - accuracy: 0.8471\n",
      "Epoch 93/100\n",
      "259/259 [==============================] - 1s 2ms/step - loss: 0.3483 - accuracy: 0.8466\n",
      "Epoch 94/100\n",
      "259/259 [==============================] - 1s 2ms/step - loss: 0.3447 - accuracy: 0.8464\n",
      "Epoch 95/100\n",
      "259/259 [==============================] - 1s 2ms/step - loss: 0.3451 - accuracy: 0.8485\n",
      "Epoch 96/100\n",
      "259/259 [==============================] - 1s 2ms/step - loss: 0.3424 - accuracy: 0.8465\n",
      "Epoch 97/100\n",
      "259/259 [==============================] - 1s 2ms/step - loss: 0.3427 - accuracy: 0.8507\n",
      "Epoch 98/100\n",
      "259/259 [==============================] - 1s 2ms/step - loss: 0.3417 - accuracy: 0.8490\n",
      "Epoch 99/100\n",
      "259/259 [==============================] - 1s 2ms/step - loss: 0.3464 - accuracy: 0.8447\n",
      "Epoch 100/100\n",
      "259/259 [==============================] - 1s 2ms/step - loss: 0.3448 - accuracy: 0.8432\n",
      "65/65 [==============================] - 0s 2ms/step - loss: 0.4184 - accuracy: 0.8098\n",
      "[0.41841012239456177, 0.8097773194313049]\n",
      "65/65 [==============================] - 0s 2ms/step\n",
      "Classification Report: \n",
      "               precision    recall  f1-score   support\n",
      "\n",
      "           0       0.80      0.82      0.81      1033\n",
      "           1       0.82      0.79      0.81      1033\n",
      "\n",
      "    accuracy                           0.81      2066\n",
      "   macro avg       0.81      0.81      0.81      2066\n",
      "weighted avg       0.81      0.81      0.81      2066\n",
      "\n"
     ]
    }
   ],
   "source": [
    "y_preds = ANN(X_train, y_train, X_test, y_test, 'binary_crossentropy', -1)"
   ]
  },
  {
   "cell_type": "code",
   "execution_count": 99,
   "metadata": {},
   "outputs": [],
   "source": [
    "# By default the batch size is 32"
   ]
  },
  {
   "cell_type": "markdown",
   "metadata": {},
   "source": [
    "# Method 4: Use of Ensemble learning with undersampling"
   ]
  },
  {
   "cell_type": "code",
   "execution_count": 100,
   "metadata": {},
   "outputs": [
    {
     "data": {
      "text/plain": [
       "Churn\n",
       "0    5163\n",
       "1    1869\n",
       "Name: count, dtype: int64"
      ]
     },
     "execution_count": 100,
     "metadata": {},
     "output_type": "execute_result"
    }
   ],
   "source": [
    "df2.Churn.value_counts()"
   ]
  },
  {
   "cell_type": "code",
   "execution_count": 101,
   "metadata": {},
   "outputs": [],
   "source": [
    "X = df2.drop('Churn',axis='columns')\n",
    "y = df2['Churn']"
   ]
  },
  {
   "cell_type": "code",
   "execution_count": 102,
   "metadata": {},
   "outputs": [],
   "source": [
    "X_train, X_test, y_train, y_test = train_test_split(X,y,test_size=0.2,random_state=15,stratify=y)"
   ]
  },
  {
   "cell_type": "code",
   "execution_count": 103,
   "metadata": {},
   "outputs": [
    {
     "data": {
      "text/plain": [
       "Churn\n",
       "0    4130\n",
       "1    1495\n",
       "Name: count, dtype: int64"
      ]
     },
     "execution_count": 103,
     "metadata": {},
     "output_type": "execute_result"
    }
   ],
   "source": [
    "y_train.value_counts()"
   ]
  },
  {
   "cell_type": "code",
   "execution_count": 104,
   "metadata": {},
   "outputs": [
    {
     "data": {
      "text/plain": [
       "1376.6666666666667"
      ]
     },
     "execution_count": 104,
     "metadata": {},
     "output_type": "execute_result"
    }
   ],
   "source": [
    "4130/3"
   ]
  },
  {
   "cell_type": "code",
   "execution_count": 105,
   "metadata": {},
   "outputs": [],
   "source": [
    "df3 = X_train.copy()\n",
    "df3['Churn'] = y_train"
   ]
  },
  {
   "cell_type": "code",
   "execution_count": 106,
   "metadata": {},
   "outputs": [],
   "source": [
    "df3_class0 = df3[df3['Churn'] == 0]\n",
    "df3_class1 = df3[df3['Churn'] == 1]"
   ]
  },
  {
   "cell_type": "code",
   "execution_count": 109,
   "metadata": {},
   "outputs": [
    {
     "data": {
      "text/plain": [
       "((4130, 27), (1495, 27))"
      ]
     },
     "execution_count": 109,
     "metadata": {},
     "output_type": "execute_result"
    }
   ],
   "source": [
    "df3_class0.shape , df3_class1.shape"
   ]
  },
  {
   "cell_type": "code",
   "execution_count": 112,
   "metadata": {},
   "outputs": [],
   "source": [
    "def get_train_batch(df_majority,df_minority,start,end):\n",
    "    df_train = pd.concat([df_majority[start:end],df_minority],axis=0)\n",
    "    \n",
    "    X_train = df_train.drop('Churn',axis='columns')\n",
    "    y_train = df_train.Churn\n",
    "    \n",
    "    return X_train, y_train"
   ]
  },
  {
   "cell_type": "code",
   "execution_count": 113,
   "metadata": {},
   "outputs": [
    {
     "data": {
      "text/plain": [
       "(2990, 26)"
      ]
     },
     "execution_count": 113,
     "metadata": {},
     "output_type": "execute_result"
    }
   ],
   "source": [
    "X_train, y_train = get_train_batch(df3_class0,df3_class1,0,1495)\n",
    "\n",
    "X_train.shape"
   ]
  },
  {
   "cell_type": "code",
   "execution_count": 115,
   "metadata": {},
   "outputs": [],
   "source": [
    "X_train = np.array(X_train,dtype=np.float32)\n",
    "X_test = np.array(X_test,dtype=np.float32)"
   ]
  },
  {
   "cell_type": "code",
   "execution_count": 118,
   "metadata": {},
   "outputs": [
    {
     "name": "stdout",
     "output_type": "stream",
     "text": [
      "Epoch 1/100\n",
      "94/94 [==============================] - 1s 2ms/step - loss: 0.6085 - accuracy: 0.6853\n",
      "Epoch 2/100\n",
      "94/94 [==============================] - 0s 2ms/step - loss: 0.5082 - accuracy: 0.7548\n",
      "Epoch 3/100\n",
      "94/94 [==============================] - 0s 2ms/step - loss: 0.4923 - accuracy: 0.7672\n",
      "Epoch 4/100\n",
      "94/94 [==============================] - 0s 4ms/step - loss: 0.4874 - accuracy: 0.7645\n",
      "Epoch 5/100\n",
      "94/94 [==============================] - 0s 2ms/step - loss: 0.4814 - accuracy: 0.7696\n",
      "Epoch 6/100\n",
      "94/94 [==============================] - 0s 2ms/step - loss: 0.4782 - accuracy: 0.7719\n",
      "Epoch 7/100\n",
      "94/94 [==============================] - 0s 2ms/step - loss: 0.4763 - accuracy: 0.7676\n",
      "Epoch 8/100\n",
      "94/94 [==============================] - 0s 2ms/step - loss: 0.4745 - accuracy: 0.7773\n",
      "Epoch 9/100\n",
      "94/94 [==============================] - 0s 3ms/step - loss: 0.4722 - accuracy: 0.7763\n",
      "Epoch 10/100\n",
      "94/94 [==============================] - 0s 2ms/step - loss: 0.4695 - accuracy: 0.7779\n",
      "Epoch 11/100\n",
      "94/94 [==============================] - 0s 3ms/step - loss: 0.4682 - accuracy: 0.7729\n",
      "Epoch 12/100\n",
      "94/94 [==============================] - 0s 3ms/step - loss: 0.4670 - accuracy: 0.7809\n",
      "Epoch 13/100\n",
      "94/94 [==============================] - 0s 3ms/step - loss: 0.4656 - accuracy: 0.7793\n",
      "Epoch 14/100\n",
      "94/94 [==============================] - 0s 2ms/step - loss: 0.4650 - accuracy: 0.7789\n",
      "Epoch 15/100\n",
      "94/94 [==============================] - 0s 2ms/step - loss: 0.4629 - accuracy: 0.7826\n",
      "Epoch 16/100\n",
      "94/94 [==============================] - 0s 2ms/step - loss: 0.4631 - accuracy: 0.7833\n",
      "Epoch 17/100\n",
      "94/94 [==============================] - 0s 2ms/step - loss: 0.4620 - accuracy: 0.7839\n",
      "Epoch 18/100\n",
      "94/94 [==============================] - 0s 3ms/step - loss: 0.4577 - accuracy: 0.7890\n",
      "Epoch 19/100\n",
      "94/94 [==============================] - 0s 4ms/step - loss: 0.4573 - accuracy: 0.7863\n",
      "Epoch 20/100\n",
      "94/94 [==============================] - 0s 3ms/step - loss: 0.4558 - accuracy: 0.7856\n",
      "Epoch 21/100\n",
      "94/94 [==============================] - 0s 4ms/step - loss: 0.4551 - accuracy: 0.7883\n",
      "Epoch 22/100\n",
      "94/94 [==============================] - 0s 3ms/step - loss: 0.4550 - accuracy: 0.7866\n",
      "Epoch 23/100\n",
      "94/94 [==============================] - 0s 3ms/step - loss: 0.4533 - accuracy: 0.7870\n",
      "Epoch 24/100\n",
      "94/94 [==============================] - 0s 3ms/step - loss: 0.4527 - accuracy: 0.7920\n",
      "Epoch 25/100\n",
      "94/94 [==============================] - 0s 3ms/step - loss: 0.4496 - accuracy: 0.7910\n",
      "Epoch 26/100\n",
      "94/94 [==============================] - 0s 3ms/step - loss: 0.4478 - accuracy: 0.7943\n",
      "Epoch 27/100\n",
      "94/94 [==============================] - 0s 4ms/step - loss: 0.4466 - accuracy: 0.7970\n",
      "Epoch 28/100\n",
      "94/94 [==============================] - 0s 2ms/step - loss: 0.4451 - accuracy: 0.7957\n",
      "Epoch 29/100\n",
      "94/94 [==============================] - 0s 2ms/step - loss: 0.4436 - accuracy: 0.7990\n",
      "Epoch 30/100\n",
      "94/94 [==============================] - 0s 2ms/step - loss: 0.4426 - accuracy: 0.7993\n",
      "Epoch 31/100\n",
      "94/94 [==============================] - 0s 2ms/step - loss: 0.4413 - accuracy: 0.8030\n",
      "Epoch 32/100\n",
      "94/94 [==============================] - 0s 2ms/step - loss: 0.4421 - accuracy: 0.7910\n",
      "Epoch 33/100\n",
      "94/94 [==============================] - 0s 2ms/step - loss: 0.4385 - accuracy: 0.8017\n",
      "Epoch 34/100\n",
      "94/94 [==============================] - 0s 3ms/step - loss: 0.4376 - accuracy: 0.7980\n",
      "Epoch 35/100\n",
      "94/94 [==============================] - 0s 3ms/step - loss: 0.4373 - accuracy: 0.8013\n",
      "Epoch 36/100\n",
      "94/94 [==============================] - 0s 3ms/step - loss: 0.4347 - accuracy: 0.8047\n",
      "Epoch 37/100\n",
      "94/94 [==============================] - 0s 4ms/step - loss: 0.4349 - accuracy: 0.8013\n",
      "Epoch 38/100\n",
      "94/94 [==============================] - 0s 3ms/step - loss: 0.4327 - accuracy: 0.8077\n",
      "Epoch 39/100\n",
      "94/94 [==============================] - 0s 3ms/step - loss: 0.4316 - accuracy: 0.8047\n",
      "Epoch 40/100\n",
      "94/94 [==============================] - 1s 6ms/step - loss: 0.4315 - accuracy: 0.8050\n",
      "Epoch 41/100\n",
      "94/94 [==============================] - 0s 5ms/step - loss: 0.4293 - accuracy: 0.8043\n",
      "Epoch 42/100\n",
      "94/94 [==============================] - 0s 4ms/step - loss: 0.4270 - accuracy: 0.8080\n",
      "Epoch 43/100\n",
      "94/94 [==============================] - 0s 5ms/step - loss: 0.4289 - accuracy: 0.8077\n",
      "Epoch 44/100\n",
      "94/94 [==============================] - 0s 4ms/step - loss: 0.4274 - accuracy: 0.8043\n",
      "Epoch 45/100\n",
      "94/94 [==============================] - 0s 4ms/step - loss: 0.4253 - accuracy: 0.8117\n",
      "Epoch 46/100\n",
      "94/94 [==============================] - 0s 5ms/step - loss: 0.4256 - accuracy: 0.8064\n",
      "Epoch 47/100\n",
      "94/94 [==============================] - 0s 5ms/step - loss: 0.4234 - accuracy: 0.8067\n",
      "Epoch 48/100\n",
      "94/94 [==============================] - 0s 4ms/step - loss: 0.4241 - accuracy: 0.8070\n",
      "Epoch 49/100\n",
      "94/94 [==============================] - 0s 4ms/step - loss: 0.4204 - accuracy: 0.8100\n",
      "Epoch 50/100\n",
      "94/94 [==============================] - 0s 3ms/step - loss: 0.4206 - accuracy: 0.8127\n",
      "Epoch 51/100\n",
      "94/94 [==============================] - 0s 3ms/step - loss: 0.4183 - accuracy: 0.8054\n",
      "Epoch 52/100\n",
      "94/94 [==============================] - 0s 4ms/step - loss: 0.4178 - accuracy: 0.8110\n",
      "Epoch 53/100\n",
      "94/94 [==============================] - 0s 3ms/step - loss: 0.4180 - accuracy: 0.8110\n",
      "Epoch 54/100\n",
      "94/94 [==============================] - 0s 4ms/step - loss: 0.4147 - accuracy: 0.8147\n",
      "Epoch 55/100\n",
      "94/94 [==============================] - 0s 4ms/step - loss: 0.4144 - accuracy: 0.8171\n",
      "Epoch 56/100\n",
      "94/94 [==============================] - 0s 4ms/step - loss: 0.4145 - accuracy: 0.8104\n",
      "Epoch 57/100\n",
      "94/94 [==============================] - 0s 3ms/step - loss: 0.4120 - accuracy: 0.8140\n",
      "Epoch 58/100\n",
      "94/94 [==============================] - 0s 2ms/step - loss: 0.4103 - accuracy: 0.8181\n",
      "Epoch 59/100\n",
      "94/94 [==============================] - 0s 2ms/step - loss: 0.4082 - accuracy: 0.8191\n",
      "Epoch 60/100\n",
      "94/94 [==============================] - 0s 2ms/step - loss: 0.4090 - accuracy: 0.8181\n",
      "Epoch 61/100\n",
      "94/94 [==============================] - 0s 2ms/step - loss: 0.4123 - accuracy: 0.8137\n",
      "Epoch 62/100\n",
      "94/94 [==============================] - 0s 2ms/step - loss: 0.4066 - accuracy: 0.8197\n",
      "Epoch 63/100\n",
      "94/94 [==============================] - 0s 3ms/step - loss: 0.4053 - accuracy: 0.8214\n",
      "Epoch 64/100\n",
      "94/94 [==============================] - 0s 2ms/step - loss: 0.4057 - accuracy: 0.8204\n",
      "Epoch 65/100\n",
      "94/94 [==============================] - 0s 2ms/step - loss: 0.4057 - accuracy: 0.8181\n",
      "Epoch 66/100\n",
      "94/94 [==============================] - 0s 2ms/step - loss: 0.4038 - accuracy: 0.8161\n",
      "Epoch 67/100\n",
      "94/94 [==============================] - 0s 2ms/step - loss: 0.4040 - accuracy: 0.8201\n",
      "Epoch 68/100\n",
      "94/94 [==============================] - 0s 2ms/step - loss: 0.4022 - accuracy: 0.8194\n",
      "Epoch 69/100\n",
      "94/94 [==============================] - 0s 2ms/step - loss: 0.4017 - accuracy: 0.8164\n",
      "Epoch 70/100\n",
      "94/94 [==============================] - 0s 2ms/step - loss: 0.4013 - accuracy: 0.8234\n",
      "Epoch 71/100\n",
      "94/94 [==============================] - 0s 2ms/step - loss: 0.4028 - accuracy: 0.8174\n",
      "Epoch 72/100\n",
      "94/94 [==============================] - 0s 2ms/step - loss: 0.4015 - accuracy: 0.8214\n",
      "Epoch 73/100\n",
      "94/94 [==============================] - 0s 3ms/step - loss: 0.4008 - accuracy: 0.8171\n",
      "Epoch 74/100\n",
      "94/94 [==============================] - 0s 4ms/step - loss: 0.3989 - accuracy: 0.8204\n",
      "Epoch 75/100\n",
      "94/94 [==============================] - 0s 3ms/step - loss: 0.3960 - accuracy: 0.8201\n",
      "Epoch 76/100\n",
      "94/94 [==============================] - 0s 3ms/step - loss: 0.3982 - accuracy: 0.8291\n",
      "Epoch 77/100\n",
      "94/94 [==============================] - 0s 2ms/step - loss: 0.3957 - accuracy: 0.8247\n",
      "Epoch 78/100\n",
      "94/94 [==============================] - 0s 2ms/step - loss: 0.3945 - accuracy: 0.8258\n",
      "Epoch 79/100\n",
      "94/94 [==============================] - 0s 2ms/step - loss: 0.3936 - accuracy: 0.8258\n",
      "Epoch 80/100\n",
      "94/94 [==============================] - 0s 3ms/step - loss: 0.3924 - accuracy: 0.8231\n",
      "Epoch 81/100\n",
      "94/94 [==============================] - 0s 2ms/step - loss: 0.3916 - accuracy: 0.8244\n",
      "Epoch 82/100\n",
      "94/94 [==============================] - 0s 2ms/step - loss: 0.3930 - accuracy: 0.8251\n",
      "Epoch 83/100\n",
      "94/94 [==============================] - 0s 3ms/step - loss: 0.3896 - accuracy: 0.8247\n",
      "Epoch 84/100\n",
      "94/94 [==============================] - 0s 2ms/step - loss: 0.3897 - accuracy: 0.8254\n",
      "Epoch 85/100\n",
      "94/94 [==============================] - 0s 2ms/step - loss: 0.3892 - accuracy: 0.8258\n",
      "Epoch 86/100\n",
      "94/94 [==============================] - 0s 2ms/step - loss: 0.3889 - accuracy: 0.8251\n",
      "Epoch 87/100\n",
      "94/94 [==============================] - 0s 2ms/step - loss: 0.3887 - accuracy: 0.8288\n",
      "Epoch 88/100\n",
      "94/94 [==============================] - 0s 3ms/step - loss: 0.3864 - accuracy: 0.8281\n",
      "Epoch 89/100\n",
      "94/94 [==============================] - 0s 3ms/step - loss: 0.3856 - accuracy: 0.8281\n",
      "Epoch 90/100\n",
      "94/94 [==============================] - 0s 3ms/step - loss: 0.3852 - accuracy: 0.8254\n",
      "Epoch 91/100\n",
      "94/94 [==============================] - 0s 3ms/step - loss: 0.3844 - accuracy: 0.8294\n",
      "Epoch 92/100\n",
      "94/94 [==============================] - 0s 3ms/step - loss: 0.3843 - accuracy: 0.8234\n",
      "Epoch 93/100\n",
      "94/94 [==============================] - 0s 3ms/step - loss: 0.3810 - accuracy: 0.8331\n",
      "Epoch 94/100\n",
      "94/94 [==============================] - 0s 3ms/step - loss: 0.3830 - accuracy: 0.8244\n",
      "Epoch 95/100\n",
      "94/94 [==============================] - 0s 2ms/step - loss: 0.3820 - accuracy: 0.8284\n",
      "Epoch 96/100\n",
      "94/94 [==============================] - 0s 2ms/step - loss: 0.3822 - accuracy: 0.8294\n",
      "Epoch 97/100\n",
      "94/94 [==============================] - 0s 2ms/step - loss: 0.3807 - accuracy: 0.8318\n",
      "Epoch 98/100\n",
      "94/94 [==============================] - 0s 2ms/step - loss: 0.3814 - accuracy: 0.8247\n",
      "Epoch 99/100\n",
      "94/94 [==============================] - 0s 2ms/step - loss: 0.3812 - accuracy: 0.8311\n",
      "Epoch 100/100\n",
      "94/94 [==============================] - 0s 2ms/step - loss: 0.3779 - accuracy: 0.8271\n",
      "44/44 [==============================] - 0s 2ms/step - loss: 0.5854 - accuracy: 0.7292\n",
      "[0.5854493975639343, 0.7292110919952393]\n",
      "44/44 [==============================] - 0s 2ms/step\n",
      "Classification Report: \n",
      "               precision    recall  f1-score   support\n",
      "\n",
      "           0       0.89      0.72      0.80      1033\n",
      "           1       0.49      0.76      0.60       374\n",
      "\n",
      "    accuracy                           0.73      1407\n",
      "   macro avg       0.69      0.74      0.70      1407\n",
      "weighted avg       0.79      0.73      0.74      1407\n",
      "\n"
     ]
    }
   ],
   "source": [
    "y_pred1 = ANN(X_train, y_train, X_test, y_test, 'binary_crossentropy', -1)"
   ]
  }
 ],
 "metadata": {
  "kernelspec": {
   "display_name": "Python 3",
   "language": "python",
   "name": "python3"
  },
  "language_info": {
   "codemirror_mode": {
    "name": "ipython",
    "version": 3
   },
   "file_extension": ".py",
   "mimetype": "text/x-python",
   "name": "python",
   "nbconvert_exporter": "python",
   "pygments_lexer": "ipython3",
   "version": "3.9.5"
  }
 },
 "nbformat": 4,
 "nbformat_minor": 2
}
